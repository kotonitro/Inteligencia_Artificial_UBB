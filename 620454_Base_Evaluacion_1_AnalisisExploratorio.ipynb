{
  "cells": [
    {
      "cell_type": "markdown",
      "metadata": {
        "id": "lQjNxnstU6qz"
      },
      "source": [
        "# Evaluación 1\n",
        "\n",
        "**Integrantes:**\n",
        "\n",
        "+ Integrante 1: Juan Diego Arévalo Durán : juan.arevalo2101@alumnos.ubiobio.cl\n",
        "+ Integrante 2: Matías Rodrigo Muñoz Silva  : matias.munoz2201@alumnos.ubiobio.cl\n",
        "+ Integrante 2: Matías Ignacio Vilches Bravo : matias.vilches2201@alumnos.ubiobio.cl\n",
        "\n",
        "**Fecha de Entrega:** Abril 2025  \n",
        "**Versión:** 1.0  \n",
        "\n",
        "---\n",
        "\n",
        "## Descripción\n",
        "\n",
        "Este notebook contiene el desarrollo de la evaluación 1 de la asignatura de Inteligencia Artificial de la carrera Ingeniería Civil en Informática de la Universidad del Biío Bío - Sede Concepción\n",
        "\n",
        "---\n",
        "\n",
        "## Requisitos de Software\n",
        "\n",
        "Este notebook fue desarrollado con Python 3.9. A continuación se listan las bibliotecas necesarias:\n",
        "\n",
        "-\n",
        "-\n",
        "-\n",
        "\n",
        "Para verificar la versión instalada ejecutar usando el nombre del paquete del cual quieres saber la versión; por ejemplo, si quieres saber la versión de sklearn usas:\n",
        "\n",
        "```bash\n",
        "import numpy\n",
        "print(numpy.__version__)\n",
        "````"
      ]
    },
    {
      "cell_type": "markdown",
      "metadata": {
        "id": "rvdTWp7EXzYk"
      },
      "source": [
        "# Conjunto de datos y descripción"
      ]
    },
    {
      "cell_type": "code",
      "execution_count": null,
      "metadata": {
        "colab": {
          "base_uri": "https://localhost:8080/"
        },
        "id": "p_7jMLq8dwMe",
        "outputId": "4659af03-0145-45f1-9d10-1bb2b28bfd1a"
      },
      "outputs": [
        {
          "name": "stdout",
          "output_type": "stream",
          "text": [
            "--2025-04-04 16:29:11--  https://raw.githubusercontent.com/JaznaLaProfe/InteligenciaArtificial/main/data/student_performance.csv\n",
            "Resolving raw.githubusercontent.com (raw.githubusercontent.com)... 185.199.108.133, 185.199.109.133, 185.199.110.133, ...\n",
            "Connecting to raw.githubusercontent.com (raw.githubusercontent.com)|185.199.108.133|:443... connected.\n",
            "HTTP request sent, awaiting response... 200 OK\n",
            "Length: 172546 (169K) [text/plain]\n",
            "Saving to: ‘student_performance.csv’\n",
            "\n",
            "student_performance 100%[===================>] 168.50K  --.-KB/s    in 0.1s    \n",
            "\n",
            "2025-04-04 16:29:12 (1.14 MB/s) - ‘student_performance.csv’ saved [172546/172546]\n",
            "\n"
          ]
        }
      ],
      "source": [
        "!wget https://raw.githubusercontent.com/JaznaLaProfe/InteligenciaArtificial/main/data/student_performance.csv"
      ]
    },
    {
      "cell_type": "markdown",
      "metadata": {
        "id": "zFhGuIP6WTtK"
      },
      "source": [
        "<table>\n",
        "  <tr>\n",
        "    <th>Columna</th>\n",
        "    <th>Descripción</th>\n",
        "  </tr>\n",
        "  <tr>\n",
        "    <td>Student_ID</td>\n",
        "    <td>Identificador único del estudiante</td>\n",
        "  </tr>\n",
        "  <tr>\n",
        "    <td>Hours_Studied</td>\n",
        "    <td>Horas de estudio semanales</td>\n",
        "  </tr>\n",
        "  <tr>\n",
        "    <td>Attendance_Rate</td>\n",
        "    <td>Porcentaje de asistencia</td>\n",
        "  </tr>\n",
        "  <tr>\n",
        "    <td>Assignments_Completed</td>\n",
        "    <td>Núnero de tareas completadas</td>\n",
        "  </tr>  \n",
        "  <tr>\n",
        "    <td>Midterm_Score</td>\n",
        "    <td>Calificación del examen parcial (0-100)</td>\n",
        "  </tr>\n",
        "  <tr>\n",
        "    <td>Final_Score</td>\n",
        "    <td>Calificación del examen final (0-100)</td>\n",
        "  </tr>\n",
        "  <tr>\n",
        "    <td>Project_Score</td>\n",
        "    <td>Puntuación del proyecto final (0-100)</td>\n",
        "  </tr>\n",
        "  <tr>\n",
        "    <td>Participation_Score</td>\n",
        "    <td>Puntos por participación en clases(0-10)</td>\n",
        "  </tr>\n",
        "  <tr>\n",
        "    <td>Study_Method</td>\n",
        "    <td>Descripción del método de estudio (Kinesthetic, Visual, Auditory, Reading/ritting)</td>\n",
        "  </tr>\n",
        "</table>\n",
        "\n"
      ]
    },
    {
      "cell_type": "code",
      "execution_count": 1,
      "metadata": {
        "id": "bhEzNrSDmPUm"
      },
      "outputs": [],
      "source": [
        "import pandas as pd\n",
        "import numpy as np\n",
        "import matplotlib.pyplot as plt\n",
        "import seaborn as sns"
      ]
    },
    {
      "cell_type": "markdown",
      "metadata": {
        "id": "F3p4hfCKoyr5"
      },
      "source": [
        "\n",
        "\n",
        "---\n",
        "\n",
        "\n"
      ]
    },
    {
      "cell_type": "code",
      "execution_count": null,
      "metadata": {
        "colab": {
          "base_uri": "https://localhost:8080/",
          "height": 226
        },
        "id": "HIUicz8UmVHv",
        "outputId": "e6a6adc1-d5c0-4e27-b5b3-775d65bfa203"
      },
      "outputs": [
        {
          "data": {
            "application/vnd.google.colaboratory.intrinsic+json": {
              "summary": "{\n  \"name\": \"data\",\n  \"rows\": 5000,\n  \"fields\": [\n    {\n      \"column\": \"Student_ID\",\n      \"properties\": {\n        \"dtype\": \"number\",\n        \"std\": 1443,\n        \"min\": 1,\n        \"max\": 5000,\n        \"num_unique_values\": 5000,\n        \"samples\": [\n          1502,\n          2587,\n          2654\n        ],\n        \"semantic_type\": \"\",\n        \"description\": \"\"\n      }\n    },\n    {\n      \"column\": \"Hours_Studied\",\n      \"properties\": {\n        \"dtype\": \"number\",\n        \"std\": 12,\n        \"min\": -10,\n        \"max\": 98,\n        \"num_unique_values\": 66,\n        \"samples\": [\n          90,\n          76,\n          2\n        ],\n        \"semantic_type\": \"\",\n        \"description\": \"\"\n      }\n    },\n    {\n      \"column\": \"Attendance_Rate\",\n      \"properties\": {\n        \"dtype\": \"number\",\n        \"std\": 15,\n        \"min\": 10,\n        \"max\": 119,\n        \"num_unique_values\": 83,\n        \"samples\": [\n          89,\n          58,\n          98\n        ],\n        \"semantic_type\": \"\",\n        \"description\": \"\"\n      }\n    },\n    {\n      \"column\": \"Assignments_Completed\",\n      \"properties\": {\n        \"dtype\": \"number\",\n        \"std\": 3,\n        \"min\": 0,\n        \"max\": 10,\n        \"num_unique_values\": 11,\n        \"samples\": [\n          1,\n          10,\n          8\n        ],\n        \"semantic_type\": \"\",\n        \"description\": \"\"\n      }\n    },\n    {\n      \"column\": \"Midterm_Score\",\n      \"properties\": {\n        \"dtype\": \"number\",\n        \"std\": 29,\n        \"min\": 0,\n        \"max\": 100,\n        \"num_unique_values\": 101,\n        \"samples\": [\n          60,\n          38,\n          87\n        ],\n        \"semantic_type\": \"\",\n        \"description\": \"\"\n      }\n    },\n    {\n      \"column\": \"Final_Score\",\n      \"properties\": {\n        \"dtype\": \"number\",\n        \"std\": 28,\n        \"min\": 0,\n        \"max\": 100,\n        \"num_unique_values\": 101,\n        \"samples\": [\n          50,\n          29,\n          57\n        ],\n        \"semantic_type\": \"\",\n        \"description\": \"\"\n      }\n    },\n    {\n      \"column\": \"Project_Score\",\n      \"properties\": {\n        \"dtype\": \"number\",\n        \"std\": 28,\n        \"min\": 0,\n        \"max\": 100,\n        \"num_unique_values\": 101,\n        \"samples\": [\n          64,\n          89,\n          55\n        ],\n        \"semantic_type\": \"\",\n        \"description\": \"\"\n      }\n    },\n    {\n      \"column\": \"Participation_Score\",\n      \"properties\": {\n        \"dtype\": \"number\",\n        \"std\": 3,\n        \"min\": 0,\n        \"max\": 10,\n        \"num_unique_values\": 11,\n        \"samples\": [\n          6,\n          0,\n          7\n        ],\n        \"semantic_type\": \"\",\n        \"description\": \"\"\n      }\n    },\n    {\n      \"column\": \"Study_Method\",\n      \"properties\": {\n        \"dtype\": \"category\",\n        \"num_unique_values\": 4,\n        \"samples\": [\n          \"Visual\",\n          \"Reading/Writing\",\n          \"Kinesthetic\"\n        ],\n        \"semantic_type\": \"\",\n        \"description\": \"\"\n      }\n    }\n  ]\n}",
              "type": "dataframe",
              "variable_name": "data"
            },
            "text/html": [
              "\n",
              "  <div id=\"df-f8bc0131-1cc0-46fe-9b2b-dc75a36ef44e\" class=\"colab-df-container\">\n",
              "    <div>\n",
              "<style scoped>\n",
              "    .dataframe tbody tr th:only-of-type {\n",
              "        vertical-align: middle;\n",
              "    }\n",
              "\n",
              "    .dataframe tbody tr th {\n",
              "        vertical-align: top;\n",
              "    }\n",
              "\n",
              "    .dataframe thead th {\n",
              "        text-align: right;\n",
              "    }\n",
              "</style>\n",
              "<table border=\"1\" class=\"dataframe\">\n",
              "  <thead>\n",
              "    <tr style=\"text-align: right;\">\n",
              "      <th></th>\n",
              "      <th>Student_ID</th>\n",
              "      <th>Hours_Studied</th>\n",
              "      <th>Attendance_Rate</th>\n",
              "      <th>Assignments_Completed</th>\n",
              "      <th>Midterm_Score</th>\n",
              "      <th>Final_Score</th>\n",
              "      <th>Project_Score</th>\n",
              "      <th>Participation_Score</th>\n",
              "      <th>Study_Method</th>\n",
              "    </tr>\n",
              "  </thead>\n",
              "  <tbody>\n",
              "    <tr>\n",
              "      <th>0</th>\n",
              "      <td>1</td>\n",
              "      <td>2</td>\n",
              "      <td>58</td>\n",
              "      <td>10</td>\n",
              "      <td>21</td>\n",
              "      <td>53</td>\n",
              "      <td>24</td>\n",
              "      <td>0</td>\n",
              "      <td>Kinesthetic</td>\n",
              "    </tr>\n",
              "    <tr>\n",
              "      <th>1</th>\n",
              "      <td>2</td>\n",
              "      <td>28</td>\n",
              "      <td>51</td>\n",
              "      <td>4</td>\n",
              "      <td>35</td>\n",
              "      <td>1</td>\n",
              "      <td>100</td>\n",
              "      <td>1</td>\n",
              "      <td>Visual</td>\n",
              "    </tr>\n",
              "    <tr>\n",
              "      <th>2</th>\n",
              "      <td>3</td>\n",
              "      <td>34</td>\n",
              "      <td>59</td>\n",
              "      <td>10</td>\n",
              "      <td>19</td>\n",
              "      <td>84</td>\n",
              "      <td>68</td>\n",
              "      <td>9</td>\n",
              "      <td>Auditory</td>\n",
              "    </tr>\n",
              "    <tr>\n",
              "      <th>3</th>\n",
              "      <td>4</td>\n",
              "      <td>38</td>\n",
              "      <td>62</td>\n",
              "      <td>2</td>\n",
              "      <td>27</td>\n",
              "      <td>24</td>\n",
              "      <td>66</td>\n",
              "      <td>5</td>\n",
              "      <td>Reading/Writing</td>\n",
              "    </tr>\n",
              "    <tr>\n",
              "      <th>4</th>\n",
              "      <td>5</td>\n",
              "      <td>17</td>\n",
              "      <td>83</td>\n",
              "      <td>3</td>\n",
              "      <td>67</td>\n",
              "      <td>100</td>\n",
              "      <td>28</td>\n",
              "      <td>8</td>\n",
              "      <td>Kinesthetic</td>\n",
              "    </tr>\n",
              "  </tbody>\n",
              "</table>\n",
              "</div>\n",
              "    <div class=\"colab-df-buttons\">\n",
              "\n",
              "  <div class=\"colab-df-container\">\n",
              "    <button class=\"colab-df-convert\" onclick=\"convertToInteractive('df-f8bc0131-1cc0-46fe-9b2b-dc75a36ef44e')\"\n",
              "            title=\"Convert this dataframe to an interactive table.\"\n",
              "            style=\"display:none;\">\n",
              "\n",
              "  <svg xmlns=\"http://www.w3.org/2000/svg\" height=\"24px\" viewBox=\"0 -960 960 960\">\n",
              "    <path d=\"M120-120v-720h720v720H120Zm60-500h600v-160H180v160Zm220 220h160v-160H400v160Zm0 220h160v-160H400v160ZM180-400h160v-160H180v160Zm440 0h160v-160H620v160ZM180-180h160v-160H180v160Zm440 0h160v-160H620v160Z\"/>\n",
              "  </svg>\n",
              "    </button>\n",
              "\n",
              "  <style>\n",
              "    .colab-df-container {\n",
              "      display:flex;\n",
              "      gap: 12px;\n",
              "    }\n",
              "\n",
              "    .colab-df-convert {\n",
              "      background-color: #E8F0FE;\n",
              "      border: none;\n",
              "      border-radius: 50%;\n",
              "      cursor: pointer;\n",
              "      display: none;\n",
              "      fill: #1967D2;\n",
              "      height: 32px;\n",
              "      padding: 0 0 0 0;\n",
              "      width: 32px;\n",
              "    }\n",
              "\n",
              "    .colab-df-convert:hover {\n",
              "      background-color: #E2EBFA;\n",
              "      box-shadow: 0px 1px 2px rgba(60, 64, 67, 0.3), 0px 1px 3px 1px rgba(60, 64, 67, 0.15);\n",
              "      fill: #174EA6;\n",
              "    }\n",
              "\n",
              "    .colab-df-buttons div {\n",
              "      margin-bottom: 4px;\n",
              "    }\n",
              "\n",
              "    [theme=dark] .colab-df-convert {\n",
              "      background-color: #3B4455;\n",
              "      fill: #D2E3FC;\n",
              "    }\n",
              "\n",
              "    [theme=dark] .colab-df-convert:hover {\n",
              "      background-color: #434B5C;\n",
              "      box-shadow: 0px 1px 3px 1px rgba(0, 0, 0, 0.15);\n",
              "      filter: drop-shadow(0px 1px 2px rgba(0, 0, 0, 0.3));\n",
              "      fill: #FFFFFF;\n",
              "    }\n",
              "  </style>\n",
              "\n",
              "    <script>\n",
              "      const buttonEl =\n",
              "        document.querySelector('#df-f8bc0131-1cc0-46fe-9b2b-dc75a36ef44e button.colab-df-convert');\n",
              "      buttonEl.style.display =\n",
              "        google.colab.kernel.accessAllowed ? 'block' : 'none';\n",
              "\n",
              "      async function convertToInteractive(key) {\n",
              "        const element = document.querySelector('#df-f8bc0131-1cc0-46fe-9b2b-dc75a36ef44e');\n",
              "        const dataTable =\n",
              "          await google.colab.kernel.invokeFunction('convertToInteractive',\n",
              "                                                    [key], {});\n",
              "        if (!dataTable) return;\n",
              "\n",
              "        const docLinkHtml = 'Like what you see? Visit the ' +\n",
              "          '<a target=\"_blank\" href=https://colab.research.google.com/notebooks/data_table.ipynb>data table notebook</a>'\n",
              "          + ' to learn more about interactive tables.';\n",
              "        element.innerHTML = '';\n",
              "        dataTable['output_type'] = 'display_data';\n",
              "        await google.colab.output.renderOutput(dataTable, element);\n",
              "        const docLink = document.createElement('div');\n",
              "        docLink.innerHTML = docLinkHtml;\n",
              "        element.appendChild(docLink);\n",
              "      }\n",
              "    </script>\n",
              "  </div>\n",
              "\n",
              "\n",
              "<div id=\"df-8042455a-1835-4ba5-9c56-90fa44653138\">\n",
              "  <button class=\"colab-df-quickchart\" onclick=\"quickchart('df-8042455a-1835-4ba5-9c56-90fa44653138')\"\n",
              "            title=\"Suggest charts\"\n",
              "            style=\"display:none;\">\n",
              "\n",
              "<svg xmlns=\"http://www.w3.org/2000/svg\" height=\"24px\"viewBox=\"0 0 24 24\"\n",
              "     width=\"24px\">\n",
              "    <g>\n",
              "        <path d=\"M19 3H5c-1.1 0-2 .9-2 2v14c0 1.1.9 2 2 2h14c1.1 0 2-.9 2-2V5c0-1.1-.9-2-2-2zM9 17H7v-7h2v7zm4 0h-2V7h2v10zm4 0h-2v-4h2v4z\"/>\n",
              "    </g>\n",
              "</svg>\n",
              "  </button>\n",
              "\n",
              "<style>\n",
              "  .colab-df-quickchart {\n",
              "      --bg-color: #E8F0FE;\n",
              "      --fill-color: #1967D2;\n",
              "      --hover-bg-color: #E2EBFA;\n",
              "      --hover-fill-color: #174EA6;\n",
              "      --disabled-fill-color: #AAA;\n",
              "      --disabled-bg-color: #DDD;\n",
              "  }\n",
              "\n",
              "  [theme=dark] .colab-df-quickchart {\n",
              "      --bg-color: #3B4455;\n",
              "      --fill-color: #D2E3FC;\n",
              "      --hover-bg-color: #434B5C;\n",
              "      --hover-fill-color: #FFFFFF;\n",
              "      --disabled-bg-color: #3B4455;\n",
              "      --disabled-fill-color: #666;\n",
              "  }\n",
              "\n",
              "  .colab-df-quickchart {\n",
              "    background-color: var(--bg-color);\n",
              "    border: none;\n",
              "    border-radius: 50%;\n",
              "    cursor: pointer;\n",
              "    display: none;\n",
              "    fill: var(--fill-color);\n",
              "    height: 32px;\n",
              "    padding: 0;\n",
              "    width: 32px;\n",
              "  }\n",
              "\n",
              "  .colab-df-quickchart:hover {\n",
              "    background-color: var(--hover-bg-color);\n",
              "    box-shadow: 0 1px 2px rgba(60, 64, 67, 0.3), 0 1px 3px 1px rgba(60, 64, 67, 0.15);\n",
              "    fill: var(--button-hover-fill-color);\n",
              "  }\n",
              "\n",
              "  .colab-df-quickchart-complete:disabled,\n",
              "  .colab-df-quickchart-complete:disabled:hover {\n",
              "    background-color: var(--disabled-bg-color);\n",
              "    fill: var(--disabled-fill-color);\n",
              "    box-shadow: none;\n",
              "  }\n",
              "\n",
              "  .colab-df-spinner {\n",
              "    border: 2px solid var(--fill-color);\n",
              "    border-color: transparent;\n",
              "    border-bottom-color: var(--fill-color);\n",
              "    animation:\n",
              "      spin 1s steps(1) infinite;\n",
              "  }\n",
              "\n",
              "  @keyframes spin {\n",
              "    0% {\n",
              "      border-color: transparent;\n",
              "      border-bottom-color: var(--fill-color);\n",
              "      border-left-color: var(--fill-color);\n",
              "    }\n",
              "    20% {\n",
              "      border-color: transparent;\n",
              "      border-left-color: var(--fill-color);\n",
              "      border-top-color: var(--fill-color);\n",
              "    }\n",
              "    30% {\n",
              "      border-color: transparent;\n",
              "      border-left-color: var(--fill-color);\n",
              "      border-top-color: var(--fill-color);\n",
              "      border-right-color: var(--fill-color);\n",
              "    }\n",
              "    40% {\n",
              "      border-color: transparent;\n",
              "      border-right-color: var(--fill-color);\n",
              "      border-top-color: var(--fill-color);\n",
              "    }\n",
              "    60% {\n",
              "      border-color: transparent;\n",
              "      border-right-color: var(--fill-color);\n",
              "    }\n",
              "    80% {\n",
              "      border-color: transparent;\n",
              "      border-right-color: var(--fill-color);\n",
              "      border-bottom-color: var(--fill-color);\n",
              "    }\n",
              "    90% {\n",
              "      border-color: transparent;\n",
              "      border-bottom-color: var(--fill-color);\n",
              "    }\n",
              "  }\n",
              "</style>\n",
              "\n",
              "  <script>\n",
              "    async function quickchart(key) {\n",
              "      const quickchartButtonEl =\n",
              "        document.querySelector('#' + key + ' button');\n",
              "      quickchartButtonEl.disabled = true;  // To prevent multiple clicks.\n",
              "      quickchartButtonEl.classList.add('colab-df-spinner');\n",
              "      try {\n",
              "        const charts = await google.colab.kernel.invokeFunction(\n",
              "            'suggestCharts', [key], {});\n",
              "      } catch (error) {\n",
              "        console.error('Error during call to suggestCharts:', error);\n",
              "      }\n",
              "      quickchartButtonEl.classList.remove('colab-df-spinner');\n",
              "      quickchartButtonEl.classList.add('colab-df-quickchart-complete');\n",
              "    }\n",
              "    (() => {\n",
              "      let quickchartButtonEl =\n",
              "        document.querySelector('#df-8042455a-1835-4ba5-9c56-90fa44653138 button');\n",
              "      quickchartButtonEl.style.display =\n",
              "        google.colab.kernel.accessAllowed ? 'block' : 'none';\n",
              "    })();\n",
              "  </script>\n",
              "</div>\n",
              "\n",
              "    </div>\n",
              "  </div>\n"
            ],
            "text/plain": [
              "   Student_ID  Hours_Studied  Attendance_Rate  Assignments_Completed  \\\n",
              "0           1              2               58                     10   \n",
              "1           2             28               51                      4   \n",
              "2           3             34               59                     10   \n",
              "3           4             38               62                      2   \n",
              "4           5             17               83                      3   \n",
              "\n",
              "   Midterm_Score  Final_Score  Project_Score  Participation_Score  \\\n",
              "0             21           53             24                    0   \n",
              "1             35            1            100                    1   \n",
              "2             19           84             68                    9   \n",
              "3             27           24             66                    5   \n",
              "4             67          100             28                    8   \n",
              "\n",
              "      Study_Method  \n",
              "0      Kinesthetic  \n",
              "1           Visual  \n",
              "2         Auditory  \n",
              "3  Reading/Writing  \n",
              "4      Kinesthetic  "
            ]
          },
          "execution_count": 4,
          "metadata": {},
          "output_type": "execute_result"
        }
      ],
      "source": [
        "data = pd.read_csv(\"student_performance.csv\")\n",
        "data.head()"
      ]
    },
    {
      "cell_type": "markdown",
      "metadata": {
        "id": "KaTnNbVzbBnd"
      },
      "source": [
        "# Cantidad de observaciones y características"
      ]
    },
    {
      "cell_type": "code",
      "execution_count": null,
      "metadata": {
        "id": "PZPtGpA8bF23"
      },
      "outputs": [],
      "source": [
        "# Escriba acá su código"
      ]
    },
    {
      "cell_type": "markdown",
      "metadata": {
        "id": "L_1iwuxIbJm7"
      },
      "source": [
        "---\n",
        "✅ **Interpretación**\n",
        "\n",
        "---\n",
        "\n",
        "+ Escriba acá sus interpretaciones"
      ]
    },
    {
      "cell_type": "markdown",
      "metadata": {
        "id": "4gfJhyGzs0V4"
      },
      "source": [
        "#Detección de nulos"
      ]
    },
    {
      "cell_type": "code",
      "execution_count": null,
      "metadata": {
        "id": "WZIf37hTs2V0"
      },
      "outputs": [],
      "source": [
        "# Escriba acá su código"
      ]
    },
    {
      "cell_type": "markdown",
      "metadata": {
        "id": "XiY0-j8Gs7Vb"
      },
      "source": [
        "---\n",
        "✅ **Interpretación**\n",
        "\n",
        "---\n",
        "\n",
        "+ Escriba acá sus interpretaciones"
      ]
    },
    {
      "cell_type": "markdown",
      "metadata": {
        "id": "FkCSFGOWsyFM"
      },
      "source": [
        "#Detección de atípicos"
      ]
    },
    {
      "cell_type": "code",
      "execution_count": null,
      "metadata": {
        "id": "OD73u4D-tG7x"
      },
      "outputs": [],
      "source": [
        "# Escriba acá su código"
      ]
    },
    {
      "cell_type": "markdown",
      "metadata": {
        "id": "56CTDAectGCP"
      },
      "source": [
        "---\n",
        "✅ **Interpretación**\n",
        "\n",
        "---\n",
        "\n",
        "+ Escriba acá sus interpretaciones"
      ]
    },
    {
      "cell_type": "markdown",
      "metadata": {
        "id": "I1NmEJ9Utqiz"
      },
      "source": [
        "# Estadística descriptiva"
      ]
    },
    {
      "cell_type": "markdown",
      "metadata": {
        "id": "IaSPzmdCtuhA"
      },
      "source": [
        "## Variable continua\n",
        "\n",
        "Deberá incluir el cálculo e interpretación de las siguientes medidas estadísticas:\n",
        "+ Medidas de posición (primer, segundo y tercer cuartil)\n",
        "+ Desviación estándar\n",
        "+ Mediana agrupada\n",
        "+ Promedio\n"
      ]
    },
    {
      "cell_type": "code",
      "execution_count": null,
      "metadata": {
        "id": "JAu6RkQUty1H"
      },
      "outputs": [],
      "source": [
        "# Escriba acá su código"
      ]
    },
    {
      "cell_type": "markdown",
      "metadata": {
        "id": "43DQgGpttzlK"
      },
      "source": [
        "---\n",
        "✅ **Interpretación**\n",
        "\n",
        "---\n",
        "\n",
        "+ Escriba acá sus interpretaciones\n"
      ]
    },
    {
      "cell_type": "markdown",
      "metadata": {
        "id": "cCa0MK4htw-H"
      },
      "source": [
        "## Variable discreta"
      ]
    },
    {
      "cell_type": "code",
      "execution_count": null,
      "metadata": {
        "id": "hBoHM_zIt7wJ"
      },
      "outputs": [],
      "source": [
        "# Escriba acá su código"
      ]
    },
    {
      "cell_type": "markdown",
      "metadata": {
        "id": "0zI3oBu6t8PY"
      },
      "source": [
        "---\n",
        "✅ **Interpretación**\n",
        "\n",
        "---\n",
        "\n",
        "\n",
        "+ Escriba acá sus interpretaciones"
      ]
    },
    {
      "cell_type": "markdown",
      "metadata": {
        "id": "OCn72_WhalqJ"
      },
      "source": [
        "# Análisis de frecuencia de método de estudio"
      ]
    },
    {
      "cell_type": "code",
      "execution_count": null,
      "metadata": {
        "id": "-DOWmi75a1gf"
      },
      "outputs": [],
      "source": [
        "# Escriba acá su código"
      ]
    },
    {
      "cell_type": "markdown",
      "metadata": {
        "id": "tBgMpQpAdRqB"
      },
      "source": [
        "# Análisis de simetría/asimetría"
      ]
    },
    {
      "cell_type": "markdown",
      "metadata": {
        "id": "yyDkKgwddVjM"
      },
      "source": [
        "## Variable elegida por el equipo que será analizada"
      ]
    },
    {
      "cell_type": "code",
      "execution_count": null,
      "metadata": {
        "id": "NBwb6YwndZ35"
      },
      "outputs": [],
      "source": [
        "# Escriba acá su código"
      ]
    },
    {
      "cell_type": "markdown",
      "metadata": {
        "id": "qCuZEUuZdcRv"
      },
      "source": [
        "---\n",
        "✅ **Interpretación**\n",
        "\n",
        "---\n",
        "\n",
        "\n",
        "+ Escriba acá sus interpretaciones"
      ]
    },
    {
      "cell_type": "markdown",
      "metadata": {
        "id": "Wc2fE-KJaJzs"
      },
      "source": [
        "# Visualizaciones"
      ]
    },
    {
      "cell_type": "markdown",
      "metadata": {
        "id": "5NVQfuIUaOAZ"
      },
      "source": [
        "## Distribución de una variable continua"
      ]
    },
    {
      "cell_type": "code",
      "execution_count": null,
      "metadata": {
        "id": "f_YKv-zIaXmW"
      },
      "outputs": [],
      "source": [
        "# Escriba acá su código"
      ]
    },
    {
      "cell_type": "markdown",
      "metadata": {
        "id": "02be_g-cdgQ8"
      },
      "source": [
        "---\n",
        "✅ **Interpretación**\n",
        "\n",
        "---\n",
        "\n",
        "\n",
        "+ Escriba acá sus interpretaciones"
      ]
    },
    {
      "cell_type": "markdown",
      "metadata": {
        "id": "ncpOagKuaSAW"
      },
      "source": [
        "## Distribucion de una variable discreta"
      ]
    },
    {
      "cell_type": "code",
      "execution_count": null,
      "metadata": {
        "id": "nIJK6EgnaZsv"
      },
      "outputs": [],
      "source": [
        "# Escriba acá su código"
      ]
    },
    {
      "cell_type": "markdown",
      "metadata": {
        "id": "vwZaJl2odfNu"
      },
      "source": [
        "---\n",
        "✅ **Interpretación**\n",
        "\n",
        "---\n",
        "\n",
        "\n",
        "+ Escriba acá sus interpretaciones"
      ]
    },
    {
      "cell_type": "markdown",
      "metadata": {
        "id": "PUFcaPZ0pKOq"
      },
      "source": [
        "# Insight"
      ]
    },
    {
      "cell_type": "markdown",
      "metadata": {
        "id": "zrwXhbBkn7U7"
      },
      "source": [
        "## Insight 1 – Participación y rendimiento\n",
        "\n",
        "¿Los estudiantes con mayor participación (Participation_Score) tienen mejores Final_Score?\n",
        "\n"
      ]
    },
    {
      "cell_type": "code",
      "execution_count": null,
      "metadata": {
        "id": "tSDhQwMJpNZ5"
      },
      "outputs": [],
      "source": [
        "# Escriba acá su código"
      ]
    },
    {
      "cell_type": "markdown",
      "metadata": {
        "id": "PtGDqWDhtMJG"
      },
      "source": [
        "---\n",
        "✅ **Interpretación**\n",
        "\n",
        "---\n",
        "\n",
        "\n",
        "+ Escriba acá sus interpretaciones"
      ]
    },
    {
      "cell_type": "markdown",
      "metadata": {
        "id": "ABAHBwzPn--4"
      },
      "source": [
        "##Insight 2 – Método de estudio más efectivo\n",
        "\n",
        "¿Cuál Study_Method está asociado con mayor promedio de Final_Score?\n",
        "\n"
      ]
    },
    {
      "cell_type": "code",
      "execution_count": null,
      "metadata": {
        "id": "LOlaBxIBpV3Q"
      },
      "outputs": [],
      "source": [
        "# Escriba acá su código"
      ]
    },
    {
      "cell_type": "markdown",
      "metadata": {
        "id": "hccWzGIKrmHY"
      },
      "source": [
        "---\n",
        "✅ **Interpretación**\n",
        "\n",
        "---\n",
        "\n",
        "\n",
        "+ Escriba acá sus interpretaciones"
      ]
    },
    {
      "cell_type": "markdown",
      "metadata": {
        "id": "CyEfpdEdoBHi"
      },
      "source": [
        "##Insight 3 – Correlación horas de estudio vs. score final\n",
        "\n",
        "¿Qué tan fuerte es la correlación entre Hours_Studied y Final_Score?\n",
        "\n"
      ]
    },
    {
      "cell_type": "code",
      "execution_count": null,
      "metadata": {
        "id": "Bev0jjcdpbQO"
      },
      "outputs": [],
      "source": [
        "# Escriba acá su código"
      ]
    },
    {
      "cell_type": "markdown",
      "metadata": {
        "id": "9r3NIHqCrri4"
      },
      "source": [
        "---\n",
        "✅ **Interpretación**\n",
        "\n",
        "---\n",
        "\n",
        "+ Escriba acá sus interpretaciones"
      ]
    },
    {
      "cell_type": "markdown",
      "metadata": {
        "id": "EsDwEbq_oDhg"
      },
      "source": [
        "##Insight 4 – Identificación de valores atípicos extremos\n",
        "\n",
        "¿Cuántos estudiantes tienen valores de Attendance_Rate fuera del rango [50, 100]? ¿Cómo se comportan sus otras métricas?"
      ]
    },
    {
      "cell_type": "code",
      "execution_count": null,
      "metadata": {
        "id": "rDlnTdjGr-x7"
      },
      "outputs": [],
      "source": [
        "# Escriba acá su código"
      ]
    },
    {
      "cell_type": "markdown",
      "metadata": {
        "id": "LJUznqDcteDr"
      },
      "source": [
        "---\n",
        "✅ **Interpretación**\n",
        "\n",
        "---\n",
        "\n",
        "+ Escriba acá sus interpretaciones"
      ]
    },
    {
      "cell_type": "markdown",
      "metadata": {
        "id": "yr6pEXouZyCh"
      },
      "source": [
        "##Insight propuesto por el equipo\n",
        "\n",
        "Redacte acá el insight propuesto por el equipo"
      ]
    },
    {
      "cell_type": "code",
      "execution_count": null,
      "metadata": {
        "id": "d6SP2xrcZxkm"
      },
      "outputs": [],
      "source": [
        "# Escriba acá su código"
      ]
    },
    {
      "cell_type": "markdown",
      "metadata": {
        "id": "oLCfvxOMaDP1"
      },
      "source": [
        "---\n",
        "✅ **Interpretación**\n",
        "\n",
        "---\n",
        "\n",
        "+ Escriba acá sus interpretaciones"
      ]
    }
  ],
  "metadata": {
    "colab": {
      "provenance": [],
      "toc_visible": true
    },
    "kernelspec": {
      "display_name": "Python 3",
      "name": "python3"
    },
    "language_info": {
      "name": "python"
    }
  },
  "nbformat": 4,
  "nbformat_minor": 0
}
