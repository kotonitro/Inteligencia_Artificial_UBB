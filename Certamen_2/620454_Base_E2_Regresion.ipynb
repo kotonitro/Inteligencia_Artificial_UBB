{
  "nbformat": 4,
  "nbformat_minor": 0,
  "metadata": {
    "colab": {
      "provenance": [],
      "toc_visible": true
    },
    "kernelspec": {
      "name": "python3",
      "display_name": "Python 3"
    },
    "language_info": {
      "name": "python"
    }
  },
  "cells": [
    {
      "cell_type": "code",
      "execution_count": null,
      "metadata": {
        "colab": {
          "base_uri": "https://localhost:8080/"
        },
        "id": "t2_Eu7zfcYUk",
        "outputId": "44220d58-c3e9-43ef-d7f4-e7ec3b7da2c4"
      },
      "outputs": [
        {
          "output_type": "stream",
          "name": "stdout",
          "text": [
            "--2025-05-09 23:53:39--  https://raw.githubusercontent.com/JaznaLaProfe/InteligenciaArtificial/main/data/dataset_regresion.csv\n",
            "Resolving raw.githubusercontent.com (raw.githubusercontent.com)... 185.199.108.133, 185.199.110.133, 185.199.109.133, ...\n",
            "Connecting to raw.githubusercontent.com (raw.githubusercontent.com)|185.199.108.133|:443... connected.\n",
            "HTTP request sent, awaiting response... 200 OK\n",
            "Length: 510280 (498K) [text/plain]\n",
            "Saving to: ‘dataset_regresion.csv’\n",
            "\n",
            "dataset_regresion.c 100%[===================>] 498.32K  --.-KB/s    in 0.05s   \n",
            "\n",
            "2025-05-09 23:53:39 (9.94 MB/s) - ‘dataset_regresion.csv’ saved [510280/510280]\n",
            "\n"
          ]
        }
      ],
      "source": [
        "!wget https://raw.githubusercontent.com/JaznaLaProfe/InteligenciaArtificial/main/data/dataset_regresion.csv"
      ]
    },
    {
      "cell_type": "markdown",
      "source": [
        "# Descripción del negocio"
      ],
      "metadata": {
        "id": "HhK9W4Gge3qe"
      }
    },
    {
      "cell_type": "markdown",
      "source": [
        "✅ **Nombre del negocio:** PeopleGrow Solutions\n",
        "\n",
        "✅ **Industria:** Consultoría de desarrollo organizacional y gestión de talento\n",
        "\n",
        "✅ **Objetivo del negocio:** Optimizar las estrategias de compensación salarial para mejorar la retención del talento y la satisfacción laboral, considerando múltiples factores del perfil de los empleados.\n",
        "\n",
        "**Antecedentes**\n",
        "\n",
        "PeopleGrow Solutions trabaja con empresas que buscan alinear sus políticas salariales con indicadores clave como nivel educativo, experiencia laboral, satisfacción de los empleados y modalidad de trabajo (presencial/remoto). La empresa ha recolectado datos sobre empleados de distintas áreas para entender qué factores están más fuertemente asociados con la variación en los salarios mensuales."
      ],
      "metadata": {
        "id": "YRtl11Dye6IH"
      }
    },
    {
      "cell_type": "markdown",
      "source": [
        "# Objetivo del proyecto"
      ],
      "metadata": {
        "id": "C5DqwsNafI9K"
      }
    },
    {
      "cell_type": "markdown",
      "source": [
        "Desarrollar un modelo de regresión que permita predecir el salario mensual de un empleado, basándose en perfil educativo, experiencia laboral, nivel de satisfacción, características del puesto y otras variables disponibles dentro del set de datos\n",
        "\n",
        "Esto permitirá:\n",
        "\n",
        "✅ Identificar brechas salariales entre departamentos o niveles educativos.\n",
        "\n",
        "✅ Diseñar políticas de compensación equitativas y competitivas.\n",
        "\n",
        "✅ Detectar factores críticos que contribuyen a una mayor remuneración.\n",
        "\n",
        "✅ Simular escenarios de promoción o cambio de modalidad de trabajo y su impacto salarial."
      ],
      "metadata": {
        "id": "MD1qYCIqfO33"
      }
    },
    {
      "cell_type": "markdown",
      "source": [
        "# Pregunta clave\n",
        "\n",
        "Esta pregunta debe encontrar la respuesta en la fase 2 de entendimiento de los datos"
      ],
      "metadata": {
        "id": "6ZzZSUrMfdid"
      }
    },
    {
      "cell_type": "markdown",
      "source": [
        "✔ ¿Existen diferencias salariales significativas entre empleados remotos y presenciales?"
      ],
      "metadata": {
        "id": "Tu5Xa9Weff3s"
      }
    },
    {
      "cell_type": "markdown",
      "source": [
        "# Fase 2 - Entendimiento de los datos"
      ],
      "metadata": {
        "id": "5nZNGBtOeYg5"
      }
    },
    {
      "cell_type": "markdown",
      "source": [
        "# Fase 3 - Preparación de los datos"
      ],
      "metadata": {
        "id": "AS_erbXhhCM3"
      }
    },
    {
      "cell_type": "markdown",
      "source": [
        "# Fase 4 - Modelamiento"
      ],
      "metadata": {
        "id": "rIEaoSMBhPkR"
      }
    },
    {
      "cell_type": "markdown",
      "source": [
        "## Considerando la totalidad de características disponibles"
      ],
      "metadata": {
        "id": "PfgSCq6FpdJ1"
      }
    },
    {
      "cell_type": "markdown",
      "source": [
        "## Con selección de características por parte del equipo"
      ],
      "metadata": {
        "id": "bZtt3xbIpiJF"
      }
    },
    {
      "cell_type": "markdown",
      "source": [
        "# Fase 5 - Evaluación"
      ],
      "metadata": {
        "id": "Qmw0039lnrwF"
      }
    },
    {
      "cell_type": "markdown",
      "source": [
        "## Carga de archivo JSON con datos completamente nuevos"
      ],
      "metadata": {
        "id": "QTrCTphhrDdo"
      }
    },
    {
      "cell_type": "markdown",
      "source": [
        "## Generación de JSON con las predicciones del mejor modelo"
      ],
      "metadata": {
        "id": "p7oX-Pb1rOSs"
      }
    }
  ]
}