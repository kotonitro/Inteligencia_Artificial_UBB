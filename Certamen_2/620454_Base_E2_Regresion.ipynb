{
  "cells": [
    {
      "cell_type": "markdown",
      "metadata": {},
      "source": [
        "# Evaluación 2 parte 1\n",
        "\n",
        "**Integrantes:**\n",
        "\n",
        "+ Integrante 1: Juan Diego Arévalo Durán : juan.arevalo2101@alumnos.ubiobio.cl\n",
        "+ Integrante 2: Matías Rodrigo Muñoz Silva  : matias.munoz2201@alumnos.ubiobio.cl\n",
        "+ Integrante 3: Matías Ignacio Vilches Bravo : matias.vilches2201@alumnos.ubiobio.cl\n",
        "\n",
        "**Fecha de Entrega:** 15 de Mayo 2025  \n",
        "**Versión:** 1.0  \n",
        "\n",
        "---\n",
        "\n",
        "## Descripción\n",
        "\n",
        "Este notebook contiene el desarrollo de la evaluación 2 de la asignatura de Inteligencia Artificial de la carrera Ingeniería Civil en Informática de la Universidad del Biío Bío - Sede Concepción\n",
        "\n",
        "---\n",
        "\n",
        "## Requisitos de Software\n",
        "\n",
        "Este notebook fue desarrollado con Python 3.9. A continuación se listan las bibliotecas necesarias:\n",
        "\n",
        "- Pandas (2.2.2)\n",
        "- Numpy (2.0.2)\n",
        "- Matplotlib (3.10.0)\n",
        "- Seaborn (0.13.2)\n",
        "- Scipy (1.15.2)\n"
      ]
    },
    {
      "cell_type": "code",
      "execution_count": null,
      "metadata": {},
      "outputs": [],
      "source": [
        "#INGRESO DE LIBRERIAS\n",
        "import pandas as pd\n",
        "print(pd.__version__)\n",
        "import numpy as np\n",
        "print(np.__version__)\n",
        "import matplotlib.pyplot as plt\n",
        "import matplotlib\n",
        "print(matplotlib.__version__)\n",
        "import seaborn as sb\n",
        "print(sns.__version__)\n",
        "import pickle\n",
        "print(pickle.__version__)\n",
        "import sklearn\n",
        "print(sklearn.__version__)\n",
        "#INGRESO DE LIBRERIAS ESPECIFICAS\n",
        "from sklearn.linear_model import LinearRegression\n",
        "from sklearn.model_selection import train_test_split\n",
        "from sklearn.tree import DecisionTreeRegressor\n",
        "from sklearn.ensemble import RandomForestRegressor\n",
        "from sklearn.metrics import mean_absolute_error, mean_squared_log_error\n",
        "from sklearn.preprocessing import LabelEncoder, OneHotEncoder, OrdinalEncoder"
      ]
    },
    {
      "cell_type": "code",
      "execution_count": 2,
      "metadata": {
        "colab": {
          "base_uri": "https://localhost:8080/"
        },
        "id": "t2_Eu7zfcYUk",
        "outputId": "44220d58-c3e9-43ef-d7f4-e7ec3b7da2c4"
      },
      "outputs": [
        {
          "name": "stderr",
          "output_type": "stream",
          "text": [
            "'wget' is not recognized as an internal or external command,\n",
            "operable program or batch file.\n"
          ]
        }
      ],
      "source": [
        "!wget https://raw.githubusercontent.com/JaznaLaProfe/InteligenciaArtificial/main/data/dataset_regresion.csv"
      ]
    },
    {
      "cell_type": "markdown",
      "metadata": {
        "id": "HhK9W4Gge3qe"
      },
      "source": [
        "# Descripción del negocio"
      ]
    },
    {
      "cell_type": "markdown",
      "metadata": {
        "id": "YRtl11Dye6IH"
      },
      "source": [
        "✅ **Nombre del negocio:** PeopleGrow Solutions\n",
        "\n",
        "✅ **Industria:** Consultoría de desarrollo organizacional y gestión de talento\n",
        "\n",
        "✅ **Objetivo del negocio:** Optimizar las estrategias de compensación salarial para mejorar la retención del talento y la satisfacción laboral, considerando múltiples factores del perfil de los empleados.\n",
        "\n",
        "**Antecedentes**\n",
        "\n",
        "PeopleGrow Solutions trabaja con empresas que buscan alinear sus políticas salariales con indicadores clave como nivel educativo, experiencia laboral, satisfacción de los empleados y modalidad de trabajo (presencial/remoto). La empresa ha recolectado datos sobre empleados de distintas áreas para entender qué factores están más fuertemente asociados con la variación en los salarios mensuales."
      ]
    },
    {
      "cell_type": "markdown",
      "metadata": {
        "id": "C5DqwsNafI9K"
      },
      "source": [
        "# Objetivo del proyecto"
      ]
    },
    {
      "cell_type": "markdown",
      "metadata": {
        "id": "MD1qYCIqfO33"
      },
      "source": [
        "Desarrollar un modelo de regresión que permita predecir el salario mensual de un empleado, basándose en perfil educativo, experiencia laboral, nivel de satisfacción, características del puesto y otras variables disponibles dentro del set de datos\n",
        "\n",
        "Esto permitirá:\n",
        "\n",
        "✅ Identificar brechas salariales entre departamentos o niveles educativos.\n",
        "\n",
        "✅ Diseñar políticas de compensación equitativas y competitivas.\n",
        "\n",
        "✅ Detectar factores críticos que contribuyen a una mayor remuneración.\n",
        "\n",
        "✅ Simular escenarios de promoción o cambio de modalidad de trabajo y su impacto salarial."
      ]
    },
    {
      "cell_type": "markdown",
      "metadata": {
        "id": "6ZzZSUrMfdid"
      },
      "source": [
        "# Pregunta clave\n",
        "\n",
        "Esta pregunta debe encontrar la respuesta en la fase 2 de entendimiento de los datos"
      ]
    },
    {
      "cell_type": "markdown",
      "metadata": {
        "id": "Tu5Xa9Weff3s"
      },
      "source": [
        "✔ ¿Existen diferencias salariales significativas entre empleados remotos y presenciales?"
      ]
    },
    {
      "cell_type": "markdown",
      "metadata": {
        "id": "5nZNGBtOeYg5"
      },
      "source": [
        "# Fase 2 - Entendimiento de los datos"
      ]
    },
    {
      "cell_type": "markdown",
      "metadata": {
        "id": "AS_erbXhhCM3"
      },
      "source": [
        "# Fase 3 - Preparación de los datos"
      ]
    },
    {
      "cell_type": "markdown",
      "metadata": {
        "id": "rIEaoSMBhPkR"
      },
      "source": [
        "# Fase 4 - Modelamiento"
      ]
    },
    {
      "cell_type": "markdown",
      "metadata": {
        "id": "PfgSCq6FpdJ1"
      },
      "source": [
        "## Considerando la totalidad de características disponibles"
      ]
    },
    {
      "cell_type": "markdown",
      "metadata": {
        "id": "bZtt3xbIpiJF"
      },
      "source": [
        "## Con selección de características por parte del equipo"
      ]
    },
    {
      "cell_type": "markdown",
      "metadata": {
        "id": "Qmw0039lnrwF"
      },
      "source": [
        "# Fase 5 - Evaluación"
      ]
    },
    {
      "cell_type": "markdown",
      "metadata": {
        "id": "QTrCTphhrDdo"
      },
      "source": [
        "## Carga de archivo JSON con datos completamente nuevos"
      ]
    },
    {
      "cell_type": "markdown",
      "metadata": {
        "id": "p7oX-Pb1rOSs"
      },
      "source": [
        "## Generación de JSON con las predicciones del mejor modelo"
      ]
    }
  ],
  "metadata": {
    "colab": {
      "provenance": [],
      "toc_visible": true
    },
    "kernelspec": {
      "display_name": "Python 3",
      "name": "python3"
    },
    "language_info": {
      "codemirror_mode": {
        "name": "ipython",
        "version": 3
      },
      "file_extension": ".py",
      "mimetype": "text/x-python",
      "name": "python",
      "nbconvert_exporter": "python",
      "pygments_lexer": "ipython3",
      "version": "3.10.0"
    }
  },
  "nbformat": 4,
  "nbformat_minor": 0
}
