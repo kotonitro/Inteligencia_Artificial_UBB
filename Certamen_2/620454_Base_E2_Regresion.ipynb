{
  "cells": [
    {
      "cell_type": "markdown",
      "metadata": {
        "id": "87YDcrRrbl1w"
      },
      "source": [
        "# Evaluación 2 parte 1\n",
        "\n",
        "**Integrantes:**\n",
        "\n",
        "+ Integrante 1: Juan Diego Arévalo Durán : juan.arevalo2101@alumnos.ubiobio.cl\n",
        "+ Integrante 2: Matías Rodrigo Muñoz Silva  : matias.munoz2201@alumnos.ubiobio.cl\n",
        "+ Integrante 3: Matías Ignacio Vilches Bravo : matias.vilches2201@alumnos.ubiobio.cl\n",
        "\n",
        "**Fecha de Entrega:** 15 de Mayo 2025  \n",
        "**Versión:** 1.0  \n",
        "\n",
        "---\n",
        "\n",
        "## Descripción\n",
        "\n",
        "Este notebook contiene el desarrollo de la evaluación 2 de la asignatura de Inteligencia Artificial de la carrera Ingeniería Civil en Informática de la Universidad del Biío Bío - Sede Concepción\n",
        "\n",
        "---\n",
        "\n",
        "## Requisitos de Software\n",
        "\n",
        "Este notebook fue desarrollado con Python 3.9. A continuación se listan las bibliotecas necesarias:\n",
        "\n",
        "- Pandas (2.2.2)\n",
        "- Numpy (2.0.2)\n",
        "- Matplotlib (3.10.0)\n",
        "- Seaborn (0.13.2)\n",
        "- Scipy (1.15.2)\n"
      ]
    },
    {
      "cell_type": "code",
      "execution_count": 116,
      "metadata": {
        "colab": {
          "base_uri": "https://localhost:8080/"
        },
        "id": "grGgecy_bl1z",
        "outputId": "9181d17b-5320-4cdb-c02a-99b0187837d1"
      },
      "outputs": [
        {
          "name": "stdout",
          "output_type": "stream",
          "text": [
            "2.2.3\n",
            "2.2.4\n",
            "3.10.1\n",
            "0.13.2\n",
            "1.6.1\n"
          ]
        }
      ],
      "source": [
        "#INGRESO DE LIBRERIAS\n",
        "import pandas as pd\n",
        "print(pd.__version__)\n",
        "import numpy as np\n",
        "print(np.__version__)\n",
        "import matplotlib.pyplot as plt\n",
        "import matplotlib\n",
        "print(matplotlib.__version__)\n",
        "import seaborn as sb\n",
        "print(sb.__version__)\n",
        "import pickle\n",
        "\n",
        "import sklearn\n",
        "print(sklearn.__version__)\n",
        "#INGRESO DE LIBRERIAS ESPECIFICAS\n",
        "from scipy.stats import ttest_ind\n",
        "from sklearn.linear_model import LinearRegression\n",
        "from sklearn.model_selection import train_test_split\n",
        "from sklearn.tree import DecisionTreeRegressor\n",
        "from sklearn.ensemble import RandomForestRegressor\n",
        "from sklearn.metrics import mean_absolute_error, mean_squared_log_error\n",
        "from sklearn.preprocessing import LabelEncoder, OneHotEncoder, OrdinalEncoder"
      ]
    },
    {
      "cell_type": "code",
      "execution_count": 117,
      "metadata": {
        "colab": {
          "base_uri": "https://localhost:8080/"
        },
        "id": "t2_Eu7zfcYUk",
        "outputId": "b53b5bbe-b406-4cd8-8773-fa62de60c07a"
      },
      "outputs": [
        {
          "name": "stderr",
          "output_type": "stream",
          "text": [
            "'wget' is not recognized as an internal or external command,\n",
            "operable program or batch file.\n"
          ]
        }
      ],
      "source": [
        "!wget https://raw.githubusercontent.com/JaznaLaProfe/InteligenciaArtificial/main/data/dataset_regresion.csv"
      ]
    },
    {
      "cell_type": "code",
      "execution_count": 118,
      "metadata": {
        "id": "8OIopd9sb_QU"
      },
      "outputs": [],
      "source": [
        "# **\n",
        "# Leer el archivo dataset_regresion.csv\n",
        "#\n",
        "data = pd.read_csv(\"dataset_regresion.csv\", sep=\",\")"
      ]
    },
    {
      "cell_type": "markdown",
      "metadata": {
        "id": "HhK9W4Gge3qe"
      },
      "source": [
        "# Descripción del negocio"
      ]
    },
    {
      "cell_type": "markdown",
      "metadata": {
        "id": "YRtl11Dye6IH"
      },
      "source": [
        "✅ **Nombre del negocio:** PeopleGrow Solutions\n",
        "\n",
        "✅ **Industria:** Consultoría de desarrollo organizacional y gestión de talento\n",
        "\n",
        "✅ **Objetivo del negocio:** Optimizar las estrategias de compensación salarial para mejorar la retención del talento y la satisfacción laboral, considerando múltiples factores del perfil de los empleados.\n",
        "\n",
        "**Antecedentes**\n",
        "\n",
        "PeopleGrow Solutions trabaja con empresas que buscan alinear sus políticas salariales con indicadores clave como nivel educativo, experiencia laboral, satisfacción de los empleados y modalidad de trabajo (presencial/remoto). La empresa ha recolectado datos sobre empleados de distintas áreas para entender qué factores están más fuertemente asociados con la variación en los salarios mensuales."
      ]
    },
    {
      "cell_type": "markdown",
      "metadata": {
        "id": "C5DqwsNafI9K"
      },
      "source": [
        "# Objetivo del proyecto"
      ]
    },
    {
      "cell_type": "markdown",
      "metadata": {
        "id": "MD1qYCIqfO33"
      },
      "source": [
        "Desarrollar un modelo de regresión que permita predecir el salario mensual de un empleado, basándose en perfil educativo, experiencia laboral, nivel de satisfacción, características del puesto y otras variables disponibles dentro del set de datos\n",
        "\n",
        "Esto permitirá:\n",
        "\n",
        "✅ Identificar brechas salariales entre departamentos o niveles educativos.\n",
        "\n",
        "✅ Diseñar políticas de compensación equitativas y competitivas.\n",
        "\n",
        "✅ Detectar factores críticos que contribuyen a una mayor remuneración.\n",
        "\n",
        "✅ Simular escenarios de promoción o cambio de modalidad de trabajo y su impacto salarial."
      ]
    },
    {
      "cell_type": "markdown",
      "metadata": {
        "id": "6ZzZSUrMfdid"
      },
      "source": [
        "# Pregunta clave\n",
        "\n",
        "Esta pregunta debe encontrar la respuesta en la fase 2 de entendimiento de los datos"
      ]
    },
    {
      "cell_type": "markdown",
      "metadata": {
        "id": "Tu5Xa9Weff3s"
      },
      "source": [
        "✔ ¿Existen diferencias salariales significativas entre empleados remotos y presenciales?"
      ]
    },
    {
      "cell_type": "markdown",
      "metadata": {
        "id": "5nZNGBtOeYg5"
      },
      "source": [
        "# Fase 2 - Entendimiento de los datos"
      ]
    },
    {
      "cell_type": "code",
      "execution_count": 119,
      "metadata": {
        "colab": {
          "base_uri": "https://localhost:8080/"
        },
        "id": "FyE0kpdNb0T7",
        "outputId": "4d1933eb-49ba-411f-84ac-84b5e393c314"
      },
      "outputs": [
        {
          "data": {
            "text/plain": [
              "(10000, 9)"
            ]
          },
          "execution_count": 119,
          "metadata": {},
          "output_type": "execute_result"
        }
      ],
      "source": [
        "# Obtener la cantidad de filas y columnas (observaciones y características de los datos)\n",
        "data.shape"
      ]
    },
    {
      "cell_type": "markdown",
      "metadata": {
        "id": "uYW3qfpSp4n3"
      },
      "source": [
        "---\n",
        "✅ **Interpretación**\n",
        "\n",
        "---\n",
        "\n",
        "+ Se encuestó a 10000 trabajadores\n",
        "+ Cada trabajador tienen 9 caracteristicas"
      ]
    },
    {
      "cell_type": "code",
      "execution_count": 120,
      "metadata": {
        "colab": {
          "base_uri": "https://localhost:8080/"
        },
        "id": "qJpYHkQ-eTLz",
        "outputId": "bbc3156e-cd8b-4228-d62d-c3c52a5db095"
      },
      "outputs": [
        {
          "data": {
            "text/plain": [
              "Index(['ID', 'Edad', 'Nivel_Educativo', 'Experiencia_Anios', 'Departamento',\n",
              "       'Horas_Entrenamiento_Mensual', 'Satisfaccion_Laboral', 'Remoto',\n",
              "       'Salario_Mensual'],\n",
              "      dtype='object')"
            ]
          },
          "execution_count": 120,
          "metadata": {},
          "output_type": "execute_result"
        }
      ],
      "source": [
        "# Nombre de las columnas\n",
        "data.columns"
      ]
    },
    {
      "cell_type": "markdown",
      "metadata": {
        "id": "cF2C3PT8fXGZ"
      },
      "source": [
        "---\n",
        "✅ **Interpretación**\n",
        "\n",
        "---\n",
        "\n",
        "\n",
        "+ ID: Número de identificación del empleado.\n",
        "+ Edad: Edad del empleado.\n",
        "+ Nivel Educativo: Es el nivel educativo que posee cada empleado, de los cuales puede ser Universitaria, Técnica, Secundaria, Postgrado.\n",
        "+ Experiencia en años: Cantidad de años que lleva trabajando.\n",
        "+ Departamento: Departamento en donde se desempeña.\n",
        "+ Horas entrenamiento mensual: Cantidad de horas destinadas, mensualmente, a capacitación.\n",
        "+ Satisfacción laboral: Es el nivel de satisfacción laboral que posee cada empleado, de los cuales puede ser Muy Alta, Alta, Media, Baja.\n",
        "+ Remoto: Modalidad de trabajo del empleado.\n",
        "+ Salario mensual: Sueldo mensual, expresado en miles de pesos."
      ]
    },
    {
      "cell_type": "code",
      "execution_count": 121,
      "metadata": {
        "colab": {
          "base_uri": "https://localhost:8080/",
          "height": 226
        },
        "id": "u3PUX9wTeWvQ",
        "outputId": "98000a0c-21d9-4455-8539-7aa031395ca3"
      },
      "outputs": [
        {
          "data": {
            "text/html": [
              "<div>\n",
              "<style scoped>\n",
              "    .dataframe tbody tr th:only-of-type {\n",
              "        vertical-align: middle;\n",
              "    }\n",
              "\n",
              "    .dataframe tbody tr th {\n",
              "        vertical-align: top;\n",
              "    }\n",
              "\n",
              "    .dataframe thead th {\n",
              "        text-align: right;\n",
              "    }\n",
              "</style>\n",
              "<table border=\"1\" class=\"dataframe\">\n",
              "  <thead>\n",
              "    <tr style=\"text-align: right;\">\n",
              "      <th></th>\n",
              "      <th>ID</th>\n",
              "      <th>Edad</th>\n",
              "      <th>Nivel_Educativo</th>\n",
              "      <th>Experiencia_Anios</th>\n",
              "      <th>Departamento</th>\n",
              "      <th>Horas_Entrenamiento_Mensual</th>\n",
              "      <th>Satisfaccion_Laboral</th>\n",
              "      <th>Remoto</th>\n",
              "      <th>Salario_Mensual</th>\n",
              "    </tr>\n",
              "  </thead>\n",
              "  <tbody>\n",
              "    <tr>\n",
              "      <th>0</th>\n",
              "      <td>1</td>\n",
              "      <td>56</td>\n",
              "      <td>Universitaria</td>\n",
              "      <td>38</td>\n",
              "      <td>Marketing</td>\n",
              "      <td>11</td>\n",
              "      <td>Alta</td>\n",
              "      <td>Sí</td>\n",
              "      <td>8230.50</td>\n",
              "    </tr>\n",
              "    <tr>\n",
              "      <th>1</th>\n",
              "      <td>2</td>\n",
              "      <td>46</td>\n",
              "      <td>Universitaria</td>\n",
              "      <td>23</td>\n",
              "      <td>TI</td>\n",
              "      <td>17</td>\n",
              "      <td>Muy Alta</td>\n",
              "      <td>No</td>\n",
              "      <td>6375.40</td>\n",
              "    </tr>\n",
              "    <tr>\n",
              "      <th>2</th>\n",
              "      <td>3</td>\n",
              "      <td>32</td>\n",
              "      <td>Técnica</td>\n",
              "      <td>13</td>\n",
              "      <td>TI</td>\n",
              "      <td>8</td>\n",
              "      <td>Media</td>\n",
              "      <td>No</td>\n",
              "      <td>4883.02</td>\n",
              "    </tr>\n",
              "    <tr>\n",
              "      <th>3</th>\n",
              "      <td>4</td>\n",
              "      <td>60</td>\n",
              "      <td>Secundaria</td>\n",
              "      <td>37</td>\n",
              "      <td>Finanzas</td>\n",
              "      <td>7</td>\n",
              "      <td>Alta</td>\n",
              "      <td>No</td>\n",
              "      <td>6739.09</td>\n",
              "    </tr>\n",
              "    <tr>\n",
              "      <th>4</th>\n",
              "      <td>5</td>\n",
              "      <td>25</td>\n",
              "      <td>Universitaria</td>\n",
              "      <td>7</td>\n",
              "      <td>Marketing</td>\n",
              "      <td>8</td>\n",
              "      <td>Alta</td>\n",
              "      <td>Sí</td>\n",
              "      <td>4729.60</td>\n",
              "    </tr>\n",
              "  </tbody>\n",
              "</table>\n",
              "</div>"
            ],
            "text/plain": [
              "   ID  Edad Nivel_Educativo  Experiencia_Anios Departamento  \\\n",
              "0   1    56   Universitaria                 38    Marketing   \n",
              "1   2    46   Universitaria                 23           TI   \n",
              "2   3    32         Técnica                 13           TI   \n",
              "3   4    60      Secundaria                 37     Finanzas   \n",
              "4   5    25   Universitaria                  7    Marketing   \n",
              "\n",
              "   Horas_Entrenamiento_Mensual Satisfaccion_Laboral Remoto  Salario_Mensual  \n",
              "0                           11                 Alta     Sí          8230.50  \n",
              "1                           17             Muy Alta     No          6375.40  \n",
              "2                            8                Media     No          4883.02  \n",
              "3                            7                 Alta     No          6739.09  \n",
              "4                            8                 Alta     Sí          4729.60  "
            ]
          },
          "execution_count": 121,
          "metadata": {},
          "output_type": "execute_result"
        }
      ],
      "source": [
        "# Obtiene las primeras 5 observaciones\n",
        "data.head()"
      ]
    },
    {
      "cell_type": "code",
      "execution_count": 122,
      "metadata": {
        "colab": {
          "base_uri": "https://localhost:8080/"
        },
        "id": "FNpOIVNGecdT",
        "outputId": "9096c7e3-7f95-429a-a259-41331d961322"
      },
      "outputs": [
        {
          "name": "stdout",
          "output_type": "stream",
          "text": [
            "<class 'pandas.core.frame.DataFrame'>\n",
            "RangeIndex: 10000 entries, 0 to 9999\n",
            "Data columns (total 9 columns):\n",
            " #   Column                       Non-Null Count  Dtype  \n",
            "---  ------                       --------------  -----  \n",
            " 0   ID                           10000 non-null  int64  \n",
            " 1   Edad                         10000 non-null  int64  \n",
            " 2   Nivel_Educativo              10000 non-null  object \n",
            " 3   Experiencia_Anios            10000 non-null  int64  \n",
            " 4   Departamento                 10000 non-null  object \n",
            " 5   Horas_Entrenamiento_Mensual  10000 non-null  int64  \n",
            " 6   Satisfaccion_Laboral         10000 non-null  object \n",
            " 7   Remoto                       10000 non-null  object \n",
            " 8   Salario_Mensual              10000 non-null  float64\n",
            "dtypes: float64(1), int64(4), object(4)\n",
            "memory usage: 703.3+ KB\n"
          ]
        }
      ],
      "source": [
        "# Obtiene detalles de las columnas (características de los diamantes)\n",
        "data.info()"
      ]
    },
    {
      "cell_type": "code",
      "execution_count": 123,
      "metadata": {
        "colab": {
          "base_uri": "https://localhost:8080/",
          "height": 366
        },
        "id": "yqfK-o6vegaa",
        "outputId": "c280ec89-dd39-48ab-8b09-0bd4f942ac6e"
      },
      "outputs": [
        {
          "data": {
            "text/plain": [
              "ID                             0\n",
              "Edad                           0\n",
              "Nivel_Educativo                0\n",
              "Experiencia_Anios              0\n",
              "Departamento                   0\n",
              "Horas_Entrenamiento_Mensual    0\n",
              "Satisfaccion_Laboral           0\n",
              "Remoto                         0\n",
              "Salario_Mensual                0\n",
              "dtype: int64"
            ]
          },
          "execution_count": 123,
          "metadata": {},
          "output_type": "execute_result"
        }
      ],
      "source": [
        "# Obtiene la cantidad de regostros con valores nulos\n",
        "data.isna().sum()"
      ]
    },
    {
      "cell_type": "code",
      "execution_count": 124,
      "metadata": {
        "colab": {
          "base_uri": "https://localhost:8080/",
          "height": 206
        },
        "id": "tMo97GE_ekqB",
        "outputId": "ee254879-70c1-4df1-b69d-87d939fd6b12"
      },
      "outputs": [
        {
          "data": {
            "text/html": [
              "<div>\n",
              "<style scoped>\n",
              "    .dataframe tbody tr th:only-of-type {\n",
              "        vertical-align: middle;\n",
              "    }\n",
              "\n",
              "    .dataframe tbody tr th {\n",
              "        vertical-align: top;\n",
              "    }\n",
              "\n",
              "    .dataframe thead th {\n",
              "        text-align: right;\n",
              "    }\n",
              "</style>\n",
              "<table border=\"1\" class=\"dataframe\">\n",
              "  <thead>\n",
              "    <tr style=\"text-align: right;\">\n",
              "      <th></th>\n",
              "      <th>count</th>\n",
              "      <th>mean</th>\n",
              "      <th>std</th>\n",
              "      <th>min</th>\n",
              "      <th>25%</th>\n",
              "      <th>50%</th>\n",
              "      <th>75%</th>\n",
              "      <th>max</th>\n",
              "    </tr>\n",
              "  </thead>\n",
              "  <tbody>\n",
              "    <tr>\n",
              "      <th>ID</th>\n",
              "      <td>10000.0</td>\n",
              "      <td>5000.500000</td>\n",
              "      <td>2886.895680</td>\n",
              "      <td>1.00</td>\n",
              "      <td>2500.7500</td>\n",
              "      <td>5000.500</td>\n",
              "      <td>7500.2500</td>\n",
              "      <td>10000.00</td>\n",
              "    </tr>\n",
              "    <tr>\n",
              "      <th>Edad</th>\n",
              "      <td>10000.0</td>\n",
              "      <td>41.557600</td>\n",
              "      <td>13.749581</td>\n",
              "      <td>18.00</td>\n",
              "      <td>30.0000</td>\n",
              "      <td>41.500</td>\n",
              "      <td>53.0000</td>\n",
              "      <td>65.00</td>\n",
              "    </tr>\n",
              "    <tr>\n",
              "      <th>Experiencia_Anios</th>\n",
              "      <td>10000.0</td>\n",
              "      <td>20.461600</td>\n",
              "      <td>13.239760</td>\n",
              "      <td>0.00</td>\n",
              "      <td>9.0000</td>\n",
              "      <td>20.000</td>\n",
              "      <td>32.0000</td>\n",
              "      <td>40.00</td>\n",
              "    </tr>\n",
              "    <tr>\n",
              "      <th>Horas_Entrenamiento_Mensual</th>\n",
              "      <td>10000.0</td>\n",
              "      <td>10.000000</td>\n",
              "      <td>3.183711</td>\n",
              "      <td>0.00</td>\n",
              "      <td>8.0000</td>\n",
              "      <td>10.000</td>\n",
              "      <td>12.0000</td>\n",
              "      <td>23.00</td>\n",
              "    </tr>\n",
              "    <tr>\n",
              "      <th>Salario_Mensual</th>\n",
              "      <td>10000.0</td>\n",
              "      <td>5764.693974</td>\n",
              "      <td>1659.896370</td>\n",
              "      <td>1773.68</td>\n",
              "      <td>4364.3675</td>\n",
              "      <td>5788.975</td>\n",
              "      <td>7177.2925</td>\n",
              "      <td>9641.94</td>\n",
              "    </tr>\n",
              "  </tbody>\n",
              "</table>\n",
              "</div>"
            ],
            "text/plain": [
              "                               count         mean          std      min  \\\n",
              "ID                           10000.0  5000.500000  2886.895680     1.00   \n",
              "Edad                         10000.0    41.557600    13.749581    18.00   \n",
              "Experiencia_Anios            10000.0    20.461600    13.239760     0.00   \n",
              "Horas_Entrenamiento_Mensual  10000.0    10.000000     3.183711     0.00   \n",
              "Salario_Mensual              10000.0  5764.693974  1659.896370  1773.68   \n",
              "\n",
              "                                   25%       50%        75%       max  \n",
              "ID                           2500.7500  5000.500  7500.2500  10000.00  \n",
              "Edad                           30.0000    41.500    53.0000     65.00  \n",
              "Experiencia_Anios               9.0000    20.000    32.0000     40.00  \n",
              "Horas_Entrenamiento_Mensual     8.0000    10.000    12.0000     23.00  \n",
              "Salario_Mensual              4364.3675  5788.975  7177.2925   9641.94  "
            ]
          },
          "execution_count": 124,
          "metadata": {},
          "output_type": "execute_result"
        }
      ],
      "source": [
        "# Usaremos un método resumen de estadísticas numéricas\n",
        "data.describe().T"
      ]
    },
    {
      "cell_type": "code",
      "execution_count": 125,
      "metadata": {
        "id": "vHcO9E6Fp4n7",
        "outputId": "1d949a22-6fd5-4293-c481-8ffac326af27"
      },
      "outputs": [
        {
          "data": {
            "text/plain": [
              "Salario_Mensual                1.000000\n",
              "Experiencia_Anios              0.954013\n",
              "Edad                           0.943406\n",
              "Horas_Entrenamiento_Mensual    0.014064\n",
              "ID                            -0.005383\n",
              "Name: Salario_Mensual, dtype: float64"
            ]
          },
          "execution_count": 125,
          "metadata": {},
          "output_type": "execute_result"
        }
      ],
      "source": [
        "# Obtenemos la correlacion de las variables respecto a el salario mensual (Nuestra variable objetivo la cual pretendemos predecir)\n",
        "corr_matrix = data[data.describe().columns].corr()\n",
        "corr_matrix[\"Salario_Mensual\"].sort_values(ascending=False)"
      ]
    },
    {
      "cell_type": "code",
      "execution_count": 126,
      "metadata": {
        "id": "8HHMEjiqp4n9",
        "outputId": "b7e0a926-ea70-499d-a948-5f14be83b5db"
      },
      "outputs": [
        {
          "data": {
            "text/html": [
              "<div>\n",
              "<style scoped>\n",
              "    .dataframe tbody tr th:only-of-type {\n",
              "        vertical-align: middle;\n",
              "    }\n",
              "\n",
              "    .dataframe tbody tr th {\n",
              "        vertical-align: top;\n",
              "    }\n",
              "\n",
              "    .dataframe thead th {\n",
              "        text-align: right;\n",
              "    }\n",
              "</style>\n",
              "<table border=\"1\" class=\"dataframe\">\n",
              "  <thead>\n",
              "    <tr style=\"text-align: right;\">\n",
              "      <th></th>\n",
              "      <th>ID</th>\n",
              "      <th>Edad</th>\n",
              "      <th>Nivel_Educativo</th>\n",
              "      <th>Experiencia_Anios</th>\n",
              "      <th>Departamento</th>\n",
              "      <th>Horas_Entrenamiento_Mensual</th>\n",
              "      <th>Satisfaccion_Laboral</th>\n",
              "      <th>Remoto</th>\n",
              "      <th>Salario_Mensual</th>\n",
              "    </tr>\n",
              "  </thead>\n",
              "  <tbody>\n",
              "  </tbody>\n",
              "</table>\n",
              "</div>"
            ],
            "text/plain": [
              "Empty DataFrame\n",
              "Columns: [ID, Edad, Nivel_Educativo, Experiencia_Anios, Departamento, Horas_Entrenamiento_Mensual, Satisfaccion_Laboral, Remoto, Salario_Mensual]\n",
              "Index: []"
            ]
          },
          "execution_count": 126,
          "metadata": {},
          "output_type": "execute_result"
        }
      ],
      "source": [
        "# Obtiene registros que incumplen con reglas naturales del negocio\n",
        "data.query('Edad<18 or Salario_Mensual==0 or Horas_Entrenamiento_Mensual<0')"
      ]
    },
    {
      "cell_type": "markdown",
      "metadata": {
        "id": "-FbKb8P3p4n9"
      },
      "source": [
        "+ No se aprecian datos que incumplan las reglas naturales del negocio"
      ]
    },
    {
      "cell_type": "code",
      "execution_count": 127,
      "metadata": {
        "id": "gruEKsqyp4n-",
        "outputId": "cee7bec6-9c81-452c-afcc-9224edbbf3e3"
      },
      "outputs": [
        {
          "data": {
            "image/png": "[encoded data removed]",
            "text/plain": [
              "<Figure size 640x480 with 1 Axes>"
            ]
          },
          "metadata": {},
          "output_type": "display_data"
        },
        {
          "data": {
            "image/png": "[encoded data removed]",
            "text/plain": [
              "<Figure size 640x480 with 1 Axes>"
            ]
          },
          "metadata": {},
          "output_type": "display_data"
        }
      ],
      "source": [
        "# Diagrama de dispersión de la variable Salario_Mensual respecto a la variable Experiencia_Anios\n",
        "sb.scatterplot(x=data.Experiencia_Anios , y=data.Salario_Mensual)\n",
        "plt.title(\"Relación Experiencia_Anios/Salario_Mensual\", fontsize=16, fontweight=\"bold\")\n",
        "plt.show()\n",
        "\n",
        "# Histograma de la variable Salario_Mensual\n",
        "sb.histplot(data.Salario_Mensual, bins=20, kde=True)\n",
        "plt.title(\"Distribución del Salario XXXXX\", fontsize=16, fontweight=\"bold\")\n",
        "plt.show()"
      ]
    },
    {
      "cell_type": "markdown",
      "metadata": {},
      "source": [
        "---\n",
        "✅ Interpretación\n",
        "\n",
        "---\n",
        "\n",
        "+ "
      ]
    },
    {
      "cell_type": "code",
      "execution_count": 128,
      "metadata": {
        "colab": {
          "base_uri": "https://localhost:8080/",
          "height": 511
        },
        "id": "YttYvxkCarqZ",
        "outputId": "a82b10a0-3101-4586-8f0c-aea04978844e"
      },
      "outputs": [
        {
          "data": {
            "image/png": "[encoded data removed]",
            "text/plain": [
              "<Figure size 640x480 with 1 Axes>"
            ]
          },
          "metadata": {},
          "output_type": "display_data"
        },
        {
          "name": "stdout",
          "output_type": "stream",
          "text": [
            "Promedio de salario para empleados remotos: $5841.92\n",
            "Promedio de salario para empleados presenciales: $5711.07\n"
          ]
        }
      ],
      "source": [
        "# ¿Existen diferencias salariales significativas entre empleados remotos y presenciales?\n",
        "sb.boxplot(x=data.Remoto, y=data.Salario_Mensual)\n",
        "plt.title(\"Salario remoto vs presencial\", fontsize=16, fontweight=\"bold\")\n",
        "plt.show()\n",
        "\n",
        "# Promedio del salario para empleados remotos\n",
        "promedio_remoto = data[data['Remoto'] == 'Sí']['Salario_Mensual'].mean()\n",
        "\n",
        "# Promedio del salario para empleados presenciales\n",
        "promedio_presencial = data[data['Remoto'] == 'No']['Salario_Mensual'].mean()\n",
        "\n",
        "print(f\"Promedio de salario para empleados remotos: ${promedio_remoto:.2f}\")\n",
        "print(f\"Promedio de salario para empleados presenciales: ${promedio_presencial:.2f}\")"
      ]
    },
    {
      "cell_type": "markdown",
      "metadata": {
        "id": "EC829CVFeXGH"
      },
      "source": [
        "### Pregunta clave\n",
        "\n",
        "+ ¿Existen diferencias salariales significativas entre empleados remotos y presenciales?\n",
        "\n",
        "+ No, ya que se aprecia una minima diferencia entre el promedio salarial de los trabajadores remoto con respecto a los que no son remotos pero ésta no es significativa ya que es una diferencia de aproximadamente 2.26%."
      ]
    },
    {
      "cell_type": "markdown",
      "metadata": {
        "id": "AS_erbXhhCM3"
      },
      "source": [
        "# Fase 3 - Preparación de los datos"
      ]
    },
    {
      "cell_type": "code",
      "execution_count": 129,
      "metadata": {
        "id": "KiEowG8uZ_HK",
        "outputId": "cfd57d70-aa09-4d43-b625-0e486c1ac31f"
      },
      "outputs": [
        {
          "data": {
            "text/html": [
              "<div>\n",
              "<style scoped>\n",
              "    .dataframe tbody tr th:only-of-type {\n",
              "        vertical-align: middle;\n",
              "    }\n",
              "\n",
              "    .dataframe tbody tr th {\n",
              "        vertical-align: top;\n",
              "    }\n",
              "\n",
              "    .dataframe thead th {\n",
              "        text-align: right;\n",
              "    }\n",
              "</style>\n",
              "<table border=\"1\" class=\"dataframe\">\n",
              "  <thead>\n",
              "    <tr style=\"text-align: right;\">\n",
              "      <th></th>\n",
              "      <th>ID</th>\n",
              "      <th>Edad</th>\n",
              "      <th>Nivel_Educativo</th>\n",
              "      <th>Experiencia_Anios</th>\n",
              "      <th>Departamento</th>\n",
              "      <th>Horas_Entrenamiento_Mensual</th>\n",
              "      <th>Satisfaccion_Laboral</th>\n",
              "      <th>Remoto</th>\n",
              "      <th>Salario_Mensual</th>\n",
              "      <th>Nivel_Educativo_codificado</th>\n",
              "      <th>Departamento_codificado</th>\n",
              "      <th>Satisfaccion_Laboral_codificado</th>\n",
              "      <th>Remoto_codificado</th>\n",
              "    </tr>\n",
              "  </thead>\n",
              "  <tbody>\n",
              "    <tr>\n",
              "      <th>0</th>\n",
              "      <td>1</td>\n",
              "      <td>56</td>\n",
              "      <td>Universitaria</td>\n",
              "      <td>38</td>\n",
              "      <td>Marketing</td>\n",
              "      <td>11</td>\n",
              "      <td>Alta</td>\n",
              "      <td>Sí</td>\n",
              "      <td>8230.50</td>\n",
              "      <td>0.0</td>\n",
              "      <td>0.0</td>\n",
              "      <td>0.0</td>\n",
              "      <td>0.0</td>\n",
              "    </tr>\n",
              "    <tr>\n",
              "      <th>1</th>\n",
              "      <td>2</td>\n",
              "      <td>46</td>\n",
              "      <td>Universitaria</td>\n",
              "      <td>23</td>\n",
              "      <td>TI</td>\n",
              "      <td>17</td>\n",
              "      <td>Muy Alta</td>\n",
              "      <td>No</td>\n",
              "      <td>6375.40</td>\n",
              "      <td>0.0</td>\n",
              "      <td>1.0</td>\n",
              "      <td>1.0</td>\n",
              "      <td>1.0</td>\n",
              "    </tr>\n",
              "    <tr>\n",
              "      <th>2</th>\n",
              "      <td>3</td>\n",
              "      <td>32</td>\n",
              "      <td>Técnica</td>\n",
              "      <td>13</td>\n",
              "      <td>TI</td>\n",
              "      <td>8</td>\n",
              "      <td>Media</td>\n",
              "      <td>No</td>\n",
              "      <td>4883.02</td>\n",
              "      <td>1.0</td>\n",
              "      <td>1.0</td>\n",
              "      <td>2.0</td>\n",
              "      <td>1.0</td>\n",
              "    </tr>\n",
              "    <tr>\n",
              "      <th>3</th>\n",
              "      <td>4</td>\n",
              "      <td>60</td>\n",
              "      <td>Secundaria</td>\n",
              "      <td>37</td>\n",
              "      <td>Finanzas</td>\n",
              "      <td>7</td>\n",
              "      <td>Alta</td>\n",
              "      <td>No</td>\n",
              "      <td>6739.09</td>\n",
              "      <td>2.0</td>\n",
              "      <td>2.0</td>\n",
              "      <td>0.0</td>\n",
              "      <td>1.0</td>\n",
              "    </tr>\n",
              "    <tr>\n",
              "      <th>4</th>\n",
              "      <td>5</td>\n",
              "      <td>25</td>\n",
              "      <td>Universitaria</td>\n",
              "      <td>7</td>\n",
              "      <td>Marketing</td>\n",
              "      <td>8</td>\n",
              "      <td>Alta</td>\n",
              "      <td>Sí</td>\n",
              "      <td>4729.60</td>\n",
              "      <td>0.0</td>\n",
              "      <td>0.0</td>\n",
              "      <td>0.0</td>\n",
              "      <td>0.0</td>\n",
              "    </tr>\n",
              "    <tr>\n",
              "      <th>...</th>\n",
              "      <td>...</td>\n",
              "      <td>...</td>\n",
              "      <td>...</td>\n",
              "      <td>...</td>\n",
              "      <td>...</td>\n",
              "      <td>...</td>\n",
              "      <td>...</td>\n",
              "      <td>...</td>\n",
              "      <td>...</td>\n",
              "      <td>...</td>\n",
              "      <td>...</td>\n",
              "      <td>...</td>\n",
              "      <td>...</td>\n",
              "    </tr>\n",
              "    <tr>\n",
              "      <th>9995</th>\n",
              "      <td>9996</td>\n",
              "      <td>34</td>\n",
              "      <td>Técnica</td>\n",
              "      <td>13</td>\n",
              "      <td>Ventas</td>\n",
              "      <td>9</td>\n",
              "      <td>Alta</td>\n",
              "      <td>No</td>\n",
              "      <td>4363.37</td>\n",
              "      <td>1.0</td>\n",
              "      <td>3.0</td>\n",
              "      <td>0.0</td>\n",
              "      <td>1.0</td>\n",
              "    </tr>\n",
              "    <tr>\n",
              "      <th>9996</th>\n",
              "      <td>9997</td>\n",
              "      <td>47</td>\n",
              "      <td>Técnica</td>\n",
              "      <td>29</td>\n",
              "      <td>Marketing</td>\n",
              "      <td>5</td>\n",
              "      <td>Baja</td>\n",
              "      <td>No</td>\n",
              "      <td>5880.12</td>\n",
              "      <td>1.0</td>\n",
              "      <td>0.0</td>\n",
              "      <td>3.0</td>\n",
              "      <td>1.0</td>\n",
              "    </tr>\n",
              "    <tr>\n",
              "      <th>9997</th>\n",
              "      <td>9998</td>\n",
              "      <td>56</td>\n",
              "      <td>Técnica</td>\n",
              "      <td>32</td>\n",
              "      <td>Recursos Humanos</td>\n",
              "      <td>13</td>\n",
              "      <td>Alta</td>\n",
              "      <td>No</td>\n",
              "      <td>6270.87</td>\n",
              "      <td>1.0</td>\n",
              "      <td>4.0</td>\n",
              "      <td>0.0</td>\n",
              "      <td>1.0</td>\n",
              "    </tr>\n",
              "    <tr>\n",
              "      <th>9998</th>\n",
              "      <td>9999</td>\n",
              "      <td>24</td>\n",
              "      <td>Universitaria</td>\n",
              "      <td>5</td>\n",
              "      <td>Finanzas</td>\n",
              "      <td>17</td>\n",
              "      <td>Media</td>\n",
              "      <td>Sí</td>\n",
              "      <td>4122.12</td>\n",
              "      <td>0.0</td>\n",
              "      <td>2.0</td>\n",
              "      <td>2.0</td>\n",
              "      <td>0.0</td>\n",
              "    </tr>\n",
              "    <tr>\n",
              "      <th>9999</th>\n",
              "      <td>10000</td>\n",
              "      <td>44</td>\n",
              "      <td>Universitaria</td>\n",
              "      <td>21</td>\n",
              "      <td>TI</td>\n",
              "      <td>12</td>\n",
              "      <td>Muy Alta</td>\n",
              "      <td>No</td>\n",
              "      <td>5513.29</td>\n",
              "      <td>0.0</td>\n",
              "      <td>1.0</td>\n",
              "      <td>1.0</td>\n",
              "      <td>1.0</td>\n",
              "    </tr>\n",
              "  </tbody>\n",
              "</table>\n",
              "<p>10000 rows × 13 columns</p>\n",
              "</div>"
            ],
            "text/plain": [
              "         ID  Edad Nivel_Educativo  Experiencia_Anios      Departamento  \\\n",
              "0         1    56   Universitaria                 38         Marketing   \n",
              "1         2    46   Universitaria                 23                TI   \n",
              "2         3    32         Técnica                 13                TI   \n",
              "3         4    60      Secundaria                 37          Finanzas   \n",
              "4         5    25   Universitaria                  7         Marketing   \n",
              "...     ...   ...             ...                ...               ...   \n",
              "9995   9996    34         Técnica                 13            Ventas   \n",
              "9996   9997    47         Técnica                 29         Marketing   \n",
              "9997   9998    56         Técnica                 32  Recursos Humanos   \n",
              "9998   9999    24   Universitaria                  5          Finanzas   \n",
              "9999  10000    44   Universitaria                 21                TI   \n",
              "\n",
              "      Horas_Entrenamiento_Mensual Satisfaccion_Laboral Remoto  \\\n",
              "0                              11                 Alta     Sí   \n",
              "1                              17             Muy Alta     No   \n",
              "2                               8                Media     No   \n",
              "3                               7                 Alta     No   \n",
              "4                               8                 Alta     Sí   \n",
              "...                           ...                  ...    ...   \n",
              "9995                            9                 Alta     No   \n",
              "9996                            5                 Baja     No   \n",
              "9997                           13                 Alta     No   \n",
              "9998                           17                Media     Sí   \n",
              "9999                           12             Muy Alta     No   \n",
              "\n",
              "      Salario_Mensual  Nivel_Educativo_codificado  Departamento_codificado  \\\n",
              "0             8230.50                         0.0                      0.0   \n",
              "1             6375.40                         0.0                      1.0   \n",
              "2             4883.02                         1.0                      1.0   \n",
              "3             6739.09                         2.0                      2.0   \n",
              "4             4729.60                         0.0                      0.0   \n",
              "...               ...                         ...                      ...   \n",
              "9995          4363.37                         1.0                      3.0   \n",
              "9996          5880.12                         1.0                      0.0   \n",
              "9997          6270.87                         1.0                      4.0   \n",
              "9998          4122.12                         0.0                      2.0   \n",
              "9999          5513.29                         0.0                      1.0   \n",
              "\n",
              "      Satisfaccion_Laboral_codificado  Remoto_codificado  \n",
              "0                                 0.0                0.0  \n",
              "1                                 1.0                1.0  \n",
              "2                                 2.0                1.0  \n",
              "3                                 0.0                1.0  \n",
              "4                                 0.0                0.0  \n",
              "...                               ...                ...  \n",
              "9995                              0.0                1.0  \n",
              "9996                              3.0                1.0  \n",
              "9997                              0.0                1.0  \n",
              "9998                              2.0                0.0  \n",
              "9999                              1.0                1.0  \n",
              "\n",
              "[10000 rows x 13 columns]"
            ]
          },
          "execution_count": 129,
          "metadata": {},
          "output_type": "execute_result"
        }
      ],
      "source": [
        "#Obtiene las columnas a codificar\n",
        "categoricalfeatures = data.describe(include = np.object_).columns\n",
        "#Usa OrdinalEncoder\n",
        "for feature in categoricalfeatures:\n",
        "  encoder = OrdinalEncoder(categories=[data[feature].unique()])\n",
        "  data[f'{feature}_codificado'] = encoder.fit_transform(data[[feature]])\n",
        "\n",
        "data"
      ]
    },
    {
      "cell_type": "code",
      "execution_count": 130,
      "metadata": {
        "id": "3FhnAonhZ_HL",
        "outputId": "1efd3768-c4fa-4103-e33d-b587be651144"
      },
      "outputs": [
        {
          "data": {
            "text/html": [
              "<div>\n",
              "<style scoped>\n",
              "    .dataframe tbody tr th:only-of-type {\n",
              "        vertical-align: middle;\n",
              "    }\n",
              "\n",
              "    .dataframe tbody tr th {\n",
              "        vertical-align: top;\n",
              "    }\n",
              "\n",
              "    .dataframe thead th {\n",
              "        text-align: right;\n",
              "    }\n",
              "</style>\n",
              "<table border=\"1\" class=\"dataframe\">\n",
              "  <thead>\n",
              "    <tr style=\"text-align: right;\">\n",
              "      <th></th>\n",
              "      <th>ID</th>\n",
              "      <th>Edad</th>\n",
              "      <th>Experiencia_Anios</th>\n",
              "      <th>Horas_Entrenamiento_Mensual</th>\n",
              "      <th>Nivel_Educativo_codificado</th>\n",
              "      <th>Departamento_codificado</th>\n",
              "      <th>Satisfaccion_Laboral_codificado</th>\n",
              "      <th>Remoto_codificado</th>\n",
              "    </tr>\n",
              "  </thead>\n",
              "  <tbody>\n",
              "    <tr>\n",
              "      <th>0</th>\n",
              "      <td>1</td>\n",
              "      <td>56</td>\n",
              "      <td>38</td>\n",
              "      <td>11</td>\n",
              "      <td>0.0</td>\n",
              "      <td>0.0</td>\n",
              "      <td>0.0</td>\n",
              "      <td>0.0</td>\n",
              "    </tr>\n",
              "    <tr>\n",
              "      <th>1</th>\n",
              "      <td>2</td>\n",
              "      <td>46</td>\n",
              "      <td>23</td>\n",
              "      <td>17</td>\n",
              "      <td>0.0</td>\n",
              "      <td>1.0</td>\n",
              "      <td>1.0</td>\n",
              "      <td>1.0</td>\n",
              "    </tr>\n",
              "    <tr>\n",
              "      <th>2</th>\n",
              "      <td>3</td>\n",
              "      <td>32</td>\n",
              "      <td>13</td>\n",
              "      <td>8</td>\n",
              "      <td>1.0</td>\n",
              "      <td>1.0</td>\n",
              "      <td>2.0</td>\n",
              "      <td>1.0</td>\n",
              "    </tr>\n",
              "    <tr>\n",
              "      <th>3</th>\n",
              "      <td>4</td>\n",
              "      <td>60</td>\n",
              "      <td>37</td>\n",
              "      <td>7</td>\n",
              "      <td>2.0</td>\n",
              "      <td>2.0</td>\n",
              "      <td>0.0</td>\n",
              "      <td>1.0</td>\n",
              "    </tr>\n",
              "    <tr>\n",
              "      <th>4</th>\n",
              "      <td>5</td>\n",
              "      <td>25</td>\n",
              "      <td>7</td>\n",
              "      <td>8</td>\n",
              "      <td>0.0</td>\n",
              "      <td>0.0</td>\n",
              "      <td>0.0</td>\n",
              "      <td>0.0</td>\n",
              "    </tr>\n",
              "  </tbody>\n",
              "</table>\n",
              "</div>"
            ],
            "text/plain": [
              "   ID  Edad  Experiencia_Anios  Horas_Entrenamiento_Mensual  \\\n",
              "0   1    56                 38                           11   \n",
              "1   2    46                 23                           17   \n",
              "2   3    32                 13                            8   \n",
              "3   4    60                 37                            7   \n",
              "4   5    25                  7                            8   \n",
              "\n",
              "   Nivel_Educativo_codificado  Departamento_codificado  \\\n",
              "0                         0.0                      0.0   \n",
              "1                         0.0                      1.0   \n",
              "2                         1.0                      1.0   \n",
              "3                         2.0                      2.0   \n",
              "4                         0.0                      0.0   \n",
              "\n",
              "   Satisfaccion_Laboral_codificado  Remoto_codificado  \n",
              "0                              0.0                0.0  \n",
              "1                              1.0                1.0  \n",
              "2                              2.0                1.0  \n",
              "3                              0.0                1.0  \n",
              "4                              0.0                0.0  "
            ]
          },
          "execution_count": 130,
          "metadata": {},
          "output_type": "execute_result"
        }
      ],
      "source": [
        "data_final = data.drop(categoricalfeatures, axis=1)\n",
        "X = data_final.drop([\"Salario_Mensual\"], axis=1)\n",
        "X.head()"
      ]
    },
    {
      "cell_type": "code",
      "execution_count": 131,
      "metadata": {
        "colab": {
          "base_uri": "https://localhost:8080/",
          "height": 241
        },
        "id": "0I9SmxoHsgTK",
        "outputId": "e0219cd3-210d-4f1b-b024-5055017534f2"
      },
      "outputs": [
        {
          "data": {
            "text/plain": [
              "0    8230.50\n",
              "1    6375.40\n",
              "2    4883.02\n",
              "3    6739.09\n",
              "4    4729.60\n",
              "Name: Salario_Mensual, dtype: float64"
            ]
          },
          "execution_count": 131,
          "metadata": {},
          "output_type": "execute_result"
        }
      ],
      "source": [
        "y = data_final[\"Salario_Mensual\"]\n",
        "y.head()"
      ]
    },
    {
      "cell_type": "code",
      "execution_count": 132,
      "metadata": {
        "id": "2q1Lg98isr6U"
      },
      "outputs": [],
      "source": [
        "# Separación en data de entrenamiento y test\n",
        "X_train, X_test, y_train, y_test = train_test_split(X, y, test_size=0.3, random_state=2003)"
      ]
    },
    {
      "cell_type": "markdown",
      "metadata": {
        "id": "rIEaoSMBhPkR"
      },
      "source": [
        "# Fase 4 - Modelamiento"
      ]
    },
    {
      "cell_type": "markdown",
      "metadata": {},
      "source": [
        "## Considerando la totalidad de características disponibles"
      ]
    },
    {
      "cell_type": "markdown",
      "metadata": {
        "id": "em-Z3St2Z_HN"
      },
      "source": [
        "---\n",
        "📈 LINEAR REGRESION\n",
        "\n",
        "---"
      ]
    },
    {
      "cell_type": "code",
      "execution_count": 133,
      "metadata": {
        "id": "myGX5Wv2Z_HN"
      },
      "outputs": [],
      "source": [
        "def interpretacion(algoritmo : str, caracteristicas : np.array, score : float):\n",
        "  return f\"\"\"Modelo de regresión {algoritmo}\n",
        "   {score :.2%} de la variabilidad en los salarios mensuales se puede explicar utilizando las {len(caracteristicas)} características\n",
        "   Características elegidas :{caracteristicas.values}.\"\"\""
      ]
    },
    {
      "cell_type": "code",
      "execution_count": 134,
      "metadata": {
        "id": "J4uB8tnZZ_HO",
        "outputId": "e67e43a6-4345-4c61-bf69-9b4a3fadb38e"
      },
      "outputs": [
        {
          "data": {
            "text/html": [
              "<style>#sk-container-id-7 {\n",
              "  /* Definition of color scheme common for light and dark mode */\n",
              "  --sklearn-color-text: #000;\n",
              "  --sklearn-color-text-muted: #666;\n",
              "  --sklearn-color-line: gray;\n",
              "  /* Definition of color scheme for unfitted estimators */\n",
              "  --sklearn-color-unfitted-level-0: #fff5e6;\n",
              "  --sklearn-color-unfitted-level-1: #f6e4d2;\n",
              "  --sklearn-color-unfitted-level-2: #ffe0b3;\n",
              "  --sklearn-color-unfitted-level-3: chocolate;\n",
              "  /* Definition of color scheme for fitted estimators */\n",
              "  --sklearn-color-fitted-level-0: #f0f8ff;\n",
              "  --sklearn-color-fitted-level-1: #d4ebff;\n",
              "  --sklearn-color-fitted-level-2: #b3dbfd;\n",
              "  --sklearn-color-fitted-level-3: cornflowerblue;\n",
              "\n",
              "  /* Specific color for light theme */\n",
              "  --sklearn-color-text-on-default-background: var(--sg-text-color, var(--theme-code-foreground, var(--jp-content-font-color1, black)));\n",
              "  --sklearn-color-background: var(--sg-background-color, var(--theme-background, var(--jp-layout-color0, white)));\n",
              "  --sklearn-color-border-box: var(--sg-text-color, var(--theme-code-foreground, var(--jp-content-font-color1, black)));\n",
              "  --sklearn-color-icon: #696969;\n",
              "\n",
              "  @media (prefers-color-scheme: dark) {\n",
              "    /* Redefinition of color scheme for dark theme */\n",
              "    --sklearn-color-text-on-default-background: var(--sg-text-color, var(--theme-code-foreground, var(--jp-content-font-color1, white)));\n",
              "    --sklearn-color-background: var(--sg-background-color, var(--theme-background, var(--jp-layout-color0, #111)));\n",
              "    --sklearn-color-border-box: var(--sg-text-color, var(--theme-code-foreground, var(--jp-content-font-color1, white)));\n",
              "    --sklearn-color-icon: #878787;\n",
              "  }\n",
              "}\n",
              "\n",
              "#sk-container-id-7 {\n",
              "  color: var(--sklearn-color-text);\n",
              "}\n",
              "\n",
              "#sk-container-id-7 pre {\n",
              "  padding: 0;\n",
              "}\n",
              "\n",
              "#sk-container-id-7 input.sk-hidden--visually {\n",
              "  border: 0;\n",
              "  clip: rect(1px 1px 1px 1px);\n",
              "  clip: rect(1px, 1px, 1px, 1px);\n",
              "  height: 1px;\n",
              "  margin: -1px;\n",
              "  overflow: hidden;\n",
              "  padding: 0;\n",
              "  position: absolute;\n",
              "  width: 1px;\n",
              "}\n",
              "\n",
              "#sk-container-id-7 div.sk-dashed-wrapped {\n",
              "  border: 1px dashed var(--sklearn-color-line);\n",
              "  margin: 0 0.4em 0.5em 0.4em;\n",
              "  box-sizing: border-box;\n",
              "  padding-bottom: 0.4em;\n",
              "  background-color: var(--sklearn-color-background);\n",
              "}\n",
              "\n",
              "#sk-container-id-7 div.sk-container {\n",
              "  /* jupyter's `normalize.less` sets `[hidden] { display: none; }`\n",
              "     but bootstrap.min.css set `[hidden] { display: none !important; }`\n",
              "     so we also need the `!important` here to be able to override the\n",
              "     default hidden behavior on the sphinx rendered scikit-learn.org.\n",
              "     See: https://github.com/scikit-learn/scikit-learn/issues/21755 */\n",
              "  display: inline-block !important;\n",
              "  position: relative;\n",
              "}\n",
              "\n",
              "#sk-container-id-7 div.sk-text-repr-fallback {\n",
              "  display: none;\n",
              "}\n",
              "\n",
              "div.sk-parallel-item,\n",
              "div.sk-serial,\n",
              "div.sk-item {\n",
              "  /* draw centered vertical line to link estimators */\n",
              "  background-image: linear-gradient(var(--sklearn-color-text-on-default-background), var(--sklearn-color-text-on-default-background));\n",
              "  background-size: 2px 100%;\n",
              "  background-repeat: no-repeat;\n",
              "  background-position: center center;\n",
              "}\n",
              "\n",
              "/* Parallel-specific style estimator block */\n",
              "\n",
              "#sk-container-id-7 div.sk-parallel-item::after {\n",
              "  content: \"\";\n",
              "  width: 100%;\n",
              "  border-bottom: 2px solid var(--sklearn-color-text-on-default-background);\n",
              "  flex-grow: 1;\n",
              "}\n",
              "\n",
              "#sk-container-id-7 div.sk-parallel {\n",
              "  display: flex;\n",
              "  align-items: stretch;\n",
              "  justify-content: center;\n",
              "  background-color: var(--sklearn-color-background);\n",
              "  position: relative;\n",
              "}\n",
              "\n",
              "#sk-container-id-7 div.sk-parallel-item {\n",
              "  display: flex;\n",
              "  flex-direction: column;\n",
              "}\n",
              "\n",
              "#sk-container-id-7 div.sk-parallel-item:first-child::after {\n",
              "  align-self: flex-end;\n",
              "  width: 50%;\n",
              "}\n",
              "\n",
              "#sk-container-id-7 div.sk-parallel-item:last-child::after {\n",
              "  align-self: flex-start;\n",
              "  width: 50%;\n",
              "}\n",
              "\n",
              "#sk-container-id-7 div.sk-parallel-item:only-child::after {\n",
              "  width: 0;\n",
              "}\n",
              "\n",
              "/* Serial-specific style estimator block */\n",
              "\n",
              "#sk-container-id-7 div.sk-serial {\n",
              "  display: flex;\n",
              "  flex-direction: column;\n",
              "  align-items: center;\n",
              "  background-color: var(--sklearn-color-background);\n",
              "  padding-right: 1em;\n",
              "  padding-left: 1em;\n",
              "}\n",
              "\n",
              "\n",
              "/* Toggleable style: style used for estimator/Pipeline/ColumnTransformer box that is\n",
              "clickable and can be expanded/collapsed.\n",
              "- Pipeline and ColumnTransformer use this feature and define the default style\n",
              "- Estimators will overwrite some part of the style using the `sk-estimator` class\n",
              "*/\n",
              "\n",
              "/* Pipeline and ColumnTransformer style (default) */\n",
              "\n",
              "#sk-container-id-7 div.sk-toggleable {\n",
              "  /* Default theme specific background. It is overwritten whether we have a\n",
              "  specific estimator or a Pipeline/ColumnTransformer */\n",
              "  background-color: var(--sklearn-color-background);\n",
              "}\n",
              "\n",
              "/* Toggleable label */\n",
              "#sk-container-id-7 label.sk-toggleable__label {\n",
              "  cursor: pointer;\n",
              "  display: flex;\n",
              "  width: 100%;\n",
              "  margin-bottom: 0;\n",
              "  padding: 0.5em;\n",
              "  box-sizing: border-box;\n",
              "  text-align: center;\n",
              "  align-items: start;\n",
              "  justify-content: space-between;\n",
              "  gap: 0.5em;\n",
              "}\n",
              "\n",
              "#sk-container-id-7 label.sk-toggleable__label .caption {\n",
              "  font-size: 0.6rem;\n",
              "  font-weight: lighter;\n",
              "  color: var(--sklearn-color-text-muted);\n",
              "}\n",
              "\n",
              "#sk-container-id-7 label.sk-toggleable__label-arrow:before {\n",
              "  /* Arrow on the left of the label */\n",
              "  content: \"▸\";\n",
              "  float: left;\n",
              "  margin-right: 0.25em;\n",
              "  color: var(--sklearn-color-icon);\n",
              "}\n",
              "\n",
              "#sk-container-id-7 label.sk-toggleable__label-arrow:hover:before {\n",
              "  color: var(--sklearn-color-text);\n",
              "}\n",
              "\n",
              "/* Toggleable content - dropdown */\n",
              "\n",
              "#sk-container-id-7 div.sk-toggleable__content {\n",
              "  max-height: 0;\n",
              "  max-width: 0;\n",
              "  overflow: hidden;\n",
              "  text-align: left;\n",
              "  /* unfitted */\n",
              "  background-color: var(--sklearn-color-unfitted-level-0);\n",
              "}\n",
              "\n",
              "#sk-container-id-7 div.sk-toggleable__content.fitted {\n",
              "  /* fitted */\n",
              "  background-color: var(--sklearn-color-fitted-level-0);\n",
              "}\n",
              "\n",
              "#sk-container-id-7 div.sk-toggleable__content pre {\n",
              "  margin: 0.2em;\n",
              "  border-radius: 0.25em;\n",
              "  color: var(--sklearn-color-text);\n",
              "  /* unfitted */\n",
              "  background-color: var(--sklearn-color-unfitted-level-0);\n",
              "}\n",
              "\n",
              "#sk-container-id-7 div.sk-toggleable__content.fitted pre {\n",
              "  /* unfitted */\n",
              "  background-color: var(--sklearn-color-fitted-level-0);\n",
              "}\n",
              "\n",
              "#sk-container-id-7 input.sk-toggleable__control:checked~div.sk-toggleable__content {\n",
              "  /* Expand drop-down */\n",
              "  max-height: 200px;\n",
              "  max-width: 100%;\n",
              "  overflow: auto;\n",
              "}\n",
              "\n",
              "#sk-container-id-7 input.sk-toggleable__control:checked~label.sk-toggleable__label-arrow:before {\n",
              "  content: \"▾\";\n",
              "}\n",
              "\n",
              "/* Pipeline/ColumnTransformer-specific style */\n",
              "\n",
              "#sk-container-id-7 div.sk-label input.sk-toggleable__control:checked~label.sk-toggleable__label {\n",
              "  color: var(--sklearn-color-text);\n",
              "  background-color: var(--sklearn-color-unfitted-level-2);\n",
              "}\n",
              "\n",
              "#sk-container-id-7 div.sk-label.fitted input.sk-toggleable__control:checked~label.sk-toggleable__label {\n",
              "  background-color: var(--sklearn-color-fitted-level-2);\n",
              "}\n",
              "\n",
              "/* Estimator-specific style */\n",
              "\n",
              "/* Colorize estimator box */\n",
              "#sk-container-id-7 div.sk-estimator input.sk-toggleable__control:checked~label.sk-toggleable__label {\n",
              "  /* unfitted */\n",
              "  background-color: var(--sklearn-color-unfitted-level-2);\n",
              "}\n",
              "\n",
              "#sk-container-id-7 div.sk-estimator.fitted input.sk-toggleable__control:checked~label.sk-toggleable__label {\n",
              "  /* fitted */\n",
              "  background-color: var(--sklearn-color-fitted-level-2);\n",
              "}\n",
              "\n",
              "#sk-container-id-7 div.sk-label label.sk-toggleable__label,\n",
              "#sk-container-id-7 div.sk-label label {\n",
              "  /* The background is the default theme color */\n",
              "  color: var(--sklearn-color-text-on-default-background);\n",
              "}\n",
              "\n",
              "/* On hover, darken the color of the background */\n",
              "#sk-container-id-7 div.sk-label:hover label.sk-toggleable__label {\n",
              "  color: var(--sklearn-color-text);\n",
              "  background-color: var(--sklearn-color-unfitted-level-2);\n",
              "}\n",
              "\n",
              "/* Label box, darken color on hover, fitted */\n",
              "#sk-container-id-7 div.sk-label.fitted:hover label.sk-toggleable__label.fitted {\n",
              "  color: var(--sklearn-color-text);\n",
              "  background-color: var(--sklearn-color-fitted-level-2);\n",
              "}\n",
              "\n",
              "/* Estimator label */\n",
              "\n",
              "#sk-container-id-7 div.sk-label label {\n",
              "  font-family: monospace;\n",
              "  font-weight: bold;\n",
              "  display: inline-block;\n",
              "  line-height: 1.2em;\n",
              "}\n",
              "\n",
              "#sk-container-id-7 div.sk-label-container {\n",
              "  text-align: center;\n",
              "}\n",
              "\n",
              "/* Estimator-specific */\n",
              "#sk-container-id-7 div.sk-estimator {\n",
              "  font-family: monospace;\n",
              "  border: 1px dotted var(--sklearn-color-border-box);\n",
              "  border-radius: 0.25em;\n",
              "  box-sizing: border-box;\n",
              "  margin-bottom: 0.5em;\n",
              "  /* unfitted */\n",
              "  background-color: var(--sklearn-color-unfitted-level-0);\n",
              "}\n",
              "\n",
              "#sk-container-id-7 div.sk-estimator.fitted {\n",
              "  /* fitted */\n",
              "  background-color: var(--sklearn-color-fitted-level-0);\n",
              "}\n",
              "\n",
              "/* on hover */\n",
              "#sk-container-id-7 div.sk-estimator:hover {\n",
              "  /* unfitted */\n",
              "  background-color: var(--sklearn-color-unfitted-level-2);\n",
              "}\n",
              "\n",
              "#sk-container-id-7 div.sk-estimator.fitted:hover {\n",
              "  /* fitted */\n",
              "  background-color: var(--sklearn-color-fitted-level-2);\n",
              "}\n",
              "\n",
              "/* Specification for estimator info (e.g. \"i\" and \"?\") */\n",
              "\n",
              "/* Common style for \"i\" and \"?\" */\n",
              "\n",
              ".sk-estimator-doc-link,\n",
              "a:link.sk-estimator-doc-link,\n",
              "a:visited.sk-estimator-doc-link {\n",
              "  float: right;\n",
              "  font-size: smaller;\n",
              "  line-height: 1em;\n",
              "  font-family: monospace;\n",
              "  background-color: var(--sklearn-color-background);\n",
              "  border-radius: 1em;\n",
              "  height: 1em;\n",
              "  width: 1em;\n",
              "  text-decoration: none !important;\n",
              "  margin-left: 0.5em;\n",
              "  text-align: center;\n",
              "  /* unfitted */\n",
              "  border: var(--sklearn-color-unfitted-level-1) 1pt solid;\n",
              "  color: var(--sklearn-color-unfitted-level-1);\n",
              "}\n",
              "\n",
              ".sk-estimator-doc-link.fitted,\n",
              "a:link.sk-estimator-doc-link.fitted,\n",
              "a:visited.sk-estimator-doc-link.fitted {\n",
              "  /* fitted */\n",
              "  border: var(--sklearn-color-fitted-level-1) 1pt solid;\n",
              "  color: var(--sklearn-color-fitted-level-1);\n",
              "}\n",
              "\n",
              "/* On hover */\n",
              "div.sk-estimator:hover .sk-estimator-doc-link:hover,\n",
              ".sk-estimator-doc-link:hover,\n",
              "div.sk-label-container:hover .sk-estimator-doc-link:hover,\n",
              ".sk-estimator-doc-link:hover {\n",
              "  /* unfitted */\n",
              "  background-color: var(--sklearn-color-unfitted-level-3);\n",
              "  color: var(--sklearn-color-background);\n",
              "  text-decoration: none;\n",
              "}\n",
              "\n",
              "div.sk-estimator.fitted:hover .sk-estimator-doc-link.fitted:hover,\n",
              ".sk-estimator-doc-link.fitted:hover,\n",
              "div.sk-label-container:hover .sk-estimator-doc-link.fitted:hover,\n",
              ".sk-estimator-doc-link.fitted:hover {\n",
              "  /* fitted */\n",
              "  background-color: var(--sklearn-color-fitted-level-3);\n",
              "  color: var(--sklearn-color-background);\n",
              "  text-decoration: none;\n",
              "}\n",
              "\n",
              "/* Span, style for the box shown on hovering the info icon */\n",
              ".sk-estimator-doc-link span {\n",
              "  display: none;\n",
              "  z-index: 9999;\n",
              "  position: relative;\n",
              "  font-weight: normal;\n",
              "  right: .2ex;\n",
              "  padding: .5ex;\n",
              "  margin: .5ex;\n",
              "  width: min-content;\n",
              "  min-width: 20ex;\n",
              "  max-width: 50ex;\n",
              "  color: var(--sklearn-color-text);\n",
              "  box-shadow: 2pt 2pt 4pt #999;\n",
              "  /* unfitted */\n",
              "  background: var(--sklearn-color-unfitted-level-0);\n",
              "  border: .5pt solid var(--sklearn-color-unfitted-level-3);\n",
              "}\n",
              "\n",
              ".sk-estimator-doc-link.fitted span {\n",
              "  /* fitted */\n",
              "  background: var(--sklearn-color-fitted-level-0);\n",
              "  border: var(--sklearn-color-fitted-level-3);\n",
              "}\n",
              "\n",
              ".sk-estimator-doc-link:hover span {\n",
              "  display: block;\n",
              "}\n",
              "\n",
              "/* \"?\"-specific style due to the `<a>` HTML tag */\n",
              "\n",
              "#sk-container-id-7 a.estimator_doc_link {\n",
              "  float: right;\n",
              "  font-size: 1rem;\n",
              "  line-height: 1em;\n",
              "  font-family: monospace;\n",
              "  background-color: var(--sklearn-color-background);\n",
              "  border-radius: 1rem;\n",
              "  height: 1rem;\n",
              "  width: 1rem;\n",
              "  text-decoration: none;\n",
              "  /* unfitted */\n",
              "  color: var(--sklearn-color-unfitted-level-1);\n",
              "  border: var(--sklearn-color-unfitted-level-1) 1pt solid;\n",
              "}\n",
              "\n",
              "#sk-container-id-7 a.estimator_doc_link.fitted {\n",
              "  /* fitted */\n",
              "  border: var(--sklearn-color-fitted-level-1) 1pt solid;\n",
              "  color: var(--sklearn-color-fitted-level-1);\n",
              "}\n",
              "\n",
              "/* On hover */\n",
              "#sk-container-id-7 a.estimator_doc_link:hover {\n",
              "  /* unfitted */\n",
              "  background-color: var(--sklearn-color-unfitted-level-3);\n",
              "  color: var(--sklearn-color-background);\n",
              "  text-decoration: none;\n",
              "}\n",
              "\n",
              "#sk-container-id-7 a.estimator_doc_link.fitted:hover {\n",
              "  /* fitted */\n",
              "  background-color: var(--sklearn-color-fitted-level-3);\n",
              "}\n",
              "</style><div id=\"sk-container-id-7\" class=\"sk-top-container\"><div class=\"sk-text-repr-fallback\"><pre>LinearRegression()</pre><b>In a Jupyter environment, please rerun this cell to show the HTML representation or trust the notebook. <br />On GitHub, the HTML representation is unable to render, please try loading this page with nbviewer.org.</b></div><div class=\"sk-container\" hidden><div class=\"sk-item\"><div class=\"sk-estimator fitted sk-toggleable\"><input class=\"sk-toggleable__control sk-hidden--visually\" id=\"sk-estimator-id-7\" type=\"checkbox\" checked><label for=\"sk-estimator-id-7\" class=\"sk-toggleable__label fitted sk-toggleable__label-arrow\"><div><div>LinearRegression</div></div><div><a class=\"sk-estimator-doc-link fitted\" rel=\"noreferrer\" target=\"_blank\" href=\"https://scikit-learn.org/1.6/modules/generated/sklearn.linear_model.LinearRegression.html\">?<span>Documentation for LinearRegression</span></a><span class=\"sk-estimator-doc-link fitted\">i<span>Fitted</span></span></div></label><div class=\"sk-toggleable__content fitted\"><pre>LinearRegression()</pre></div> </div></div></div></div>"
            ],
            "text/plain": [
              "LinearRegression()"
            ]
          },
          "execution_count": 134,
          "metadata": {},
          "output_type": "execute_result"
        }
      ],
      "source": [
        "# Creación del modelo\n",
        "linreg = LinearRegression()\n",
        "# Entrenamiento del modelo\n",
        "linreg.fit(X_train, y_train)"
      ]
    },
    {
      "cell_type": "code",
      "execution_count": 135,
      "metadata": {
        "id": "TaURskK-Z_HO",
        "outputId": "aef80d04-7b64-4bf6-8e8c-b4ea71e50a29"
      },
      "outputs": [
        {
          "name": "stdout",
          "output_type": "stream",
          "text": [
            "R squared of the Linear Regression on training set: 91.92%\n",
            "R squared of the Linear Regression on test set: 91.66%\n"
          ]
        }
      ],
      "source": [
        "# Evaluación del modelo\n",
        "print(\"R squared of the Linear Regression on training set: {:.2%}\".format(linreg.score(X_train, y_train)))\n",
        "print(\"R squared of the Linear Regression on test set: {:.2%}\".format(linreg.score(X_test, y_test)))"
      ]
    },
    {
      "cell_type": "code",
      "execution_count": 136,
      "metadata": {
        "id": "p7l58zgtZ_HP",
        "outputId": "5f27702d-f2d9-4b71-afee-9e25108d0e4d"
      },
      "outputs": [
        {
          "name": "stdout",
          "output_type": "stream",
          "text": [
            "Modelo de regresión Regresión lineal\n",
            "   91.66% de la variabilidad en los salarios mensuales se puede explicar utilizando las 8 características\n",
            "   Características elegidas :['ID' 'Edad' 'Experiencia_Anios' 'Horas_Entrenamiento_Mensual'\n",
            " 'Nivel_Educativo_codificado' 'Departamento_codificado'\n",
            " 'Satisfaccion_Laboral_codificado' 'Remoto_codificado'].\n"
          ]
        }
      ],
      "source": [
        "# Interpretación en el negocio\n",
        "print(interpretacion(\"Regresión lineal\", X_train.columns, linreg.score(X_test, y_test)))"
      ]
    },
    {
      "cell_type": "markdown",
      "metadata": {
        "id": "FDsH2fC7Z_HP"
      },
      "source": [
        "---\n",
        "Observaciones\n",
        "\n",
        "---\n",
        "-"
      ]
    },
    {
      "cell_type": "code",
      "execution_count": 137,
      "metadata": {
        "id": "vrIec6T1Z_HQ",
        "outputId": "6bd5ee3b-1a61-4a41-e84b-8a50c4759049"
      },
      "outputs": [
        {
          "data": {
            "image/png": "[encoded data removed]",
            "text/plain": [
              "<Figure size 640x480 with 1 Axes>"
            ]
          },
          "metadata": {},
          "output_type": "display_data"
        }
      ],
      "source": [
        "# Realiza predicciones\n",
        "y_pred = linreg.predict(X_test)\n",
        "sb.scatterplot(x=y_test , y=y_pred, color=\"blue\")\n",
        "plt.title(\"Predicciones\", fontsize=15, fontweight=\"bold\");"
      ]
    },
    {
      "cell_type": "markdown",
      "metadata": {},
      "source": [
        "---\n",
        "✅ Interpretación\n",
        "\n",
        "---\n",
        "\n",
        "+ Los puntos están bastante alineados a lo largo de la diagonal creciente, lo cual indica una buena correlación entre los valores reales y predichos.\n",
        "+ Los errores de predicción no son muy grandes en general.\n",
        "+ En ciertas zonas los puntos se alejan más de la diagonal, lo cual puede indicar que el modelo esta subestimando o sobreestimando en ciertos rangos del salario\n",
        "+ La forma alargada y lineal sugiere que la relación entre las variables es aproximadamente lineal, lo cual valida el uso del modelo de regresión lineal."
      ]
    },
    {
      "cell_type": "code",
      "execution_count": 138,
      "metadata": {
        "id": "sOeaqb8OZ_HQ"
      },
      "outputs": [
        {
          "data": {
            "text/plain": [
              "{'LinearRegression': [LinearRegression(),\n",
              "  0.9191687115127554,\n",
              "  0.9166336140906589]}"
            ]
          },
          "execution_count": 138,
          "metadata": {},
          "output_type": "execute_result"
        }
      ],
      "source": [
        "# Guarda resultados\n",
        "history = {\"LinearRegression\" : [linreg, linreg.score(X_train, y_train), linreg.score(X_test, y_test)]}\n",
        "history"
      ]
    },
    {
      "cell_type": "markdown",
      "metadata": {
        "id": "k3AH2TwTZ_HR"
      },
      "source": [
        "---\n",
        "🌳DecisionTreeRegressor\n",
        "\n",
        "---"
      ]
    },
    {
      "cell_type": "code",
      "execution_count": 139,
      "metadata": {
        "id": "9EG7o4d7Z_Hb",
        "outputId": "996042db-e4c6-431d-f983-48b704ed5b57"
      },
      "outputs": [
        {
          "data": {
            "text/html": [
              "<style>#sk-container-id-8 {\n",
              "  /* Definition of color scheme common for light and dark mode */\n",
              "  --sklearn-color-text: #000;\n",
              "  --sklearn-color-text-muted: #666;\n",
              "  --sklearn-color-line: gray;\n",
              "  /* Definition of color scheme for unfitted estimators */\n",
              "  --sklearn-color-unfitted-level-0: #fff5e6;\n",
              "  --sklearn-color-unfitted-level-1: #f6e4d2;\n",
              "  --sklearn-color-unfitted-level-2: #ffe0b3;\n",
              "  --sklearn-color-unfitted-level-3: chocolate;\n",
              "  /* Definition of color scheme for fitted estimators */\n",
              "  --sklearn-color-fitted-level-0: #f0f8ff;\n",
              "  --sklearn-color-fitted-level-1: #d4ebff;\n",
              "  --sklearn-color-fitted-level-2: #b3dbfd;\n",
              "  --sklearn-color-fitted-level-3: cornflowerblue;\n",
              "\n",
              "  /* Specific color for light theme */\n",
              "  --sklearn-color-text-on-default-background: var(--sg-text-color, var(--theme-code-foreground, var(--jp-content-font-color1, black)));\n",
              "  --sklearn-color-background: var(--sg-background-color, var(--theme-background, var(--jp-layout-color0, white)));\n",
              "  --sklearn-color-border-box: var(--sg-text-color, var(--theme-code-foreground, var(--jp-content-font-color1, black)));\n",
              "  --sklearn-color-icon: #696969;\n",
              "\n",
              "  @media (prefers-color-scheme: dark) {\n",
              "    /* Redefinition of color scheme for dark theme */\n",
              "    --sklearn-color-text-on-default-background: var(--sg-text-color, var(--theme-code-foreground, var(--jp-content-font-color1, white)));\n",
              "    --sklearn-color-background: var(--sg-background-color, var(--theme-background, var(--jp-layout-color0, #111)));\n",
              "    --sklearn-color-border-box: var(--sg-text-color, var(--theme-code-foreground, var(--jp-content-font-color1, white)));\n",
              "    --sklearn-color-icon: #878787;\n",
              "  }\n",
              "}\n",
              "\n",
              "#sk-container-id-8 {\n",
              "  color: var(--sklearn-color-text);\n",
              "}\n",
              "\n",
              "#sk-container-id-8 pre {\n",
              "  padding: 0;\n",
              "}\n",
              "\n",
              "#sk-container-id-8 input.sk-hidden--visually {\n",
              "  border: 0;\n",
              "  clip: rect(1px 1px 1px 1px);\n",
              "  clip: rect(1px, 1px, 1px, 1px);\n",
              "  height: 1px;\n",
              "  margin: -1px;\n",
              "  overflow: hidden;\n",
              "  padding: 0;\n",
              "  position: absolute;\n",
              "  width: 1px;\n",
              "}\n",
              "\n",
              "#sk-container-id-8 div.sk-dashed-wrapped {\n",
              "  border: 1px dashed var(--sklearn-color-line);\n",
              "  margin: 0 0.4em 0.5em 0.4em;\n",
              "  box-sizing: border-box;\n",
              "  padding-bottom: 0.4em;\n",
              "  background-color: var(--sklearn-color-background);\n",
              "}\n",
              "\n",
              "#sk-container-id-8 div.sk-container {\n",
              "  /* jupyter's `normalize.less` sets `[hidden] { display: none; }`\n",
              "     but bootstrap.min.css set `[hidden] { display: none !important; }`\n",
              "     so we also need the `!important` here to be able to override the\n",
              "     default hidden behavior on the sphinx rendered scikit-learn.org.\n",
              "     See: https://github.com/scikit-learn/scikit-learn/issues/21755 */\n",
              "  display: inline-block !important;\n",
              "  position: relative;\n",
              "}\n",
              "\n",
              "#sk-container-id-8 div.sk-text-repr-fallback {\n",
              "  display: none;\n",
              "}\n",
              "\n",
              "div.sk-parallel-item,\n",
              "div.sk-serial,\n",
              "div.sk-item {\n",
              "  /* draw centered vertical line to link estimators */\n",
              "  background-image: linear-gradient(var(--sklearn-color-text-on-default-background), var(--sklearn-color-text-on-default-background));\n",
              "  background-size: 2px 100%;\n",
              "  background-repeat: no-repeat;\n",
              "  background-position: center center;\n",
              "}\n",
              "\n",
              "/* Parallel-specific style estimator block */\n",
              "\n",
              "#sk-container-id-8 div.sk-parallel-item::after {\n",
              "  content: \"\";\n",
              "  width: 100%;\n",
              "  border-bottom: 2px solid var(--sklearn-color-text-on-default-background);\n",
              "  flex-grow: 1;\n",
              "}\n",
              "\n",
              "#sk-container-id-8 div.sk-parallel {\n",
              "  display: flex;\n",
              "  align-items: stretch;\n",
              "  justify-content: center;\n",
              "  background-color: var(--sklearn-color-background);\n",
              "  position: relative;\n",
              "}\n",
              "\n",
              "#sk-container-id-8 div.sk-parallel-item {\n",
              "  display: flex;\n",
              "  flex-direction: column;\n",
              "}\n",
              "\n",
              "#sk-container-id-8 div.sk-parallel-item:first-child::after {\n",
              "  align-self: flex-end;\n",
              "  width: 50%;\n",
              "}\n",
              "\n",
              "#sk-container-id-8 div.sk-parallel-item:last-child::after {\n",
              "  align-self: flex-start;\n",
              "  width: 50%;\n",
              "}\n",
              "\n",
              "#sk-container-id-8 div.sk-parallel-item:only-child::after {\n",
              "  width: 0;\n",
              "}\n",
              "\n",
              "/* Serial-specific style estimator block */\n",
              "\n",
              "#sk-container-id-8 div.sk-serial {\n",
              "  display: flex;\n",
              "  flex-direction: column;\n",
              "  align-items: center;\n",
              "  background-color: var(--sklearn-color-background);\n",
              "  padding-right: 1em;\n",
              "  padding-left: 1em;\n",
              "}\n",
              "\n",
              "\n",
              "/* Toggleable style: style used for estimator/Pipeline/ColumnTransformer box that is\n",
              "clickable and can be expanded/collapsed.\n",
              "- Pipeline and ColumnTransformer use this feature and define the default style\n",
              "- Estimators will overwrite some part of the style using the `sk-estimator` class\n",
              "*/\n",
              "\n",
              "/* Pipeline and ColumnTransformer style (default) */\n",
              "\n",
              "#sk-container-id-8 div.sk-toggleable {\n",
              "  /* Default theme specific background. It is overwritten whether we have a\n",
              "  specific estimator or a Pipeline/ColumnTransformer */\n",
              "  background-color: var(--sklearn-color-background);\n",
              "}\n",
              "\n",
              "/* Toggleable label */\n",
              "#sk-container-id-8 label.sk-toggleable__label {\n",
              "  cursor: pointer;\n",
              "  display: flex;\n",
              "  width: 100%;\n",
              "  margin-bottom: 0;\n",
              "  padding: 0.5em;\n",
              "  box-sizing: border-box;\n",
              "  text-align: center;\n",
              "  align-items: start;\n",
              "  justify-content: space-between;\n",
              "  gap: 0.5em;\n",
              "}\n",
              "\n",
              "#sk-container-id-8 label.sk-toggleable__label .caption {\n",
              "  font-size: 0.6rem;\n",
              "  font-weight: lighter;\n",
              "  color: var(--sklearn-color-text-muted);\n",
              "}\n",
              "\n",
              "#sk-container-id-8 label.sk-toggleable__label-arrow:before {\n",
              "  /* Arrow on the left of the label */\n",
              "  content: \"▸\";\n",
              "  float: left;\n",
              "  margin-right: 0.25em;\n",
              "  color: var(--sklearn-color-icon);\n",
              "}\n",
              "\n",
              "#sk-container-id-8 label.sk-toggleable__label-arrow:hover:before {\n",
              "  color: var(--sklearn-color-text);\n",
              "}\n",
              "\n",
              "/* Toggleable content - dropdown */\n",
              "\n",
              "#sk-container-id-8 div.sk-toggleable__content {\n",
              "  max-height: 0;\n",
              "  max-width: 0;\n",
              "  overflow: hidden;\n",
              "  text-align: left;\n",
              "  /* unfitted */\n",
              "  background-color: var(--sklearn-color-unfitted-level-0);\n",
              "}\n",
              "\n",
              "#sk-container-id-8 div.sk-toggleable__content.fitted {\n",
              "  /* fitted */\n",
              "  background-color: var(--sklearn-color-fitted-level-0);\n",
              "}\n",
              "\n",
              "#sk-container-id-8 div.sk-toggleable__content pre {\n",
              "  margin: 0.2em;\n",
              "  border-radius: 0.25em;\n",
              "  color: var(--sklearn-color-text);\n",
              "  /* unfitted */\n",
              "  background-color: var(--sklearn-color-unfitted-level-0);\n",
              "}\n",
              "\n",
              "#sk-container-id-8 div.sk-toggleable__content.fitted pre {\n",
              "  /* unfitted */\n",
              "  background-color: var(--sklearn-color-fitted-level-0);\n",
              "}\n",
              "\n",
              "#sk-container-id-8 input.sk-toggleable__control:checked~div.sk-toggleable__content {\n",
              "  /* Expand drop-down */\n",
              "  max-height: 200px;\n",
              "  max-width: 100%;\n",
              "  overflow: auto;\n",
              "}\n",
              "\n",
              "#sk-container-id-8 input.sk-toggleable__control:checked~label.sk-toggleable__label-arrow:before {\n",
              "  content: \"▾\";\n",
              "}\n",
              "\n",
              "/* Pipeline/ColumnTransformer-specific style */\n",
              "\n",
              "#sk-container-id-8 div.sk-label input.sk-toggleable__control:checked~label.sk-toggleable__label {\n",
              "  color: var(--sklearn-color-text);\n",
              "  background-color: var(--sklearn-color-unfitted-level-2);\n",
              "}\n",
              "\n",
              "#sk-container-id-8 div.sk-label.fitted input.sk-toggleable__control:checked~label.sk-toggleable__label {\n",
              "  background-color: var(--sklearn-color-fitted-level-2);\n",
              "}\n",
              "\n",
              "/* Estimator-specific style */\n",
              "\n",
              "/* Colorize estimator box */\n",
              "#sk-container-id-8 div.sk-estimator input.sk-toggleable__control:checked~label.sk-toggleable__label {\n",
              "  /* unfitted */\n",
              "  background-color: var(--sklearn-color-unfitted-level-2);\n",
              "}\n",
              "\n",
              "#sk-container-id-8 div.sk-estimator.fitted input.sk-toggleable__control:checked~label.sk-toggleable__label {\n",
              "  /* fitted */\n",
              "  background-color: var(--sklearn-color-fitted-level-2);\n",
              "}\n",
              "\n",
              "#sk-container-id-8 div.sk-label label.sk-toggleable__label,\n",
              "#sk-container-id-8 div.sk-label label {\n",
              "  /* The background is the default theme color */\n",
              "  color: var(--sklearn-color-text-on-default-background);\n",
              "}\n",
              "\n",
              "/* On hover, darken the color of the background */\n",
              "#sk-container-id-8 div.sk-label:hover label.sk-toggleable__label {\n",
              "  color: var(--sklearn-color-text);\n",
              "  background-color: var(--sklearn-color-unfitted-level-2);\n",
              "}\n",
              "\n",
              "/* Label box, darken color on hover, fitted */\n",
              "#sk-container-id-8 div.sk-label.fitted:hover label.sk-toggleable__label.fitted {\n",
              "  color: var(--sklearn-color-text);\n",
              "  background-color: var(--sklearn-color-fitted-level-2);\n",
              "}\n",
              "\n",
              "/* Estimator label */\n",
              "\n",
              "#sk-container-id-8 div.sk-label label {\n",
              "  font-family: monospace;\n",
              "  font-weight: bold;\n",
              "  display: inline-block;\n",
              "  line-height: 1.2em;\n",
              "}\n",
              "\n",
              "#sk-container-id-8 div.sk-label-container {\n",
              "  text-align: center;\n",
              "}\n",
              "\n",
              "/* Estimator-specific */\n",
              "#sk-container-id-8 div.sk-estimator {\n",
              "  font-family: monospace;\n",
              "  border: 1px dotted var(--sklearn-color-border-box);\n",
              "  border-radius: 0.25em;\n",
              "  box-sizing: border-box;\n",
              "  margin-bottom: 0.5em;\n",
              "  /* unfitted */\n",
              "  background-color: var(--sklearn-color-unfitted-level-0);\n",
              "}\n",
              "\n",
              "#sk-container-id-8 div.sk-estimator.fitted {\n",
              "  /* fitted */\n",
              "  background-color: var(--sklearn-color-fitted-level-0);\n",
              "}\n",
              "\n",
              "/* on hover */\n",
              "#sk-container-id-8 div.sk-estimator:hover {\n",
              "  /* unfitted */\n",
              "  background-color: var(--sklearn-color-unfitted-level-2);\n",
              "}\n",
              "\n",
              "#sk-container-id-8 div.sk-estimator.fitted:hover {\n",
              "  /* fitted */\n",
              "  background-color: var(--sklearn-color-fitted-level-2);\n",
              "}\n",
              "\n",
              "/* Specification for estimator info (e.g. \"i\" and \"?\") */\n",
              "\n",
              "/* Common style for \"i\" and \"?\" */\n",
              "\n",
              ".sk-estimator-doc-link,\n",
              "a:link.sk-estimator-doc-link,\n",
              "a:visited.sk-estimator-doc-link {\n",
              "  float: right;\n",
              "  font-size: smaller;\n",
              "  line-height: 1em;\n",
              "  font-family: monospace;\n",
              "  background-color: var(--sklearn-color-background);\n",
              "  border-radius: 1em;\n",
              "  height: 1em;\n",
              "  width: 1em;\n",
              "  text-decoration: none !important;\n",
              "  margin-left: 0.5em;\n",
              "  text-align: center;\n",
              "  /* unfitted */\n",
              "  border: var(--sklearn-color-unfitted-level-1) 1pt solid;\n",
              "  color: var(--sklearn-color-unfitted-level-1);\n",
              "}\n",
              "\n",
              ".sk-estimator-doc-link.fitted,\n",
              "a:link.sk-estimator-doc-link.fitted,\n",
              "a:visited.sk-estimator-doc-link.fitted {\n",
              "  /* fitted */\n",
              "  border: var(--sklearn-color-fitted-level-1) 1pt solid;\n",
              "  color: var(--sklearn-color-fitted-level-1);\n",
              "}\n",
              "\n",
              "/* On hover */\n",
              "div.sk-estimator:hover .sk-estimator-doc-link:hover,\n",
              ".sk-estimator-doc-link:hover,\n",
              "div.sk-label-container:hover .sk-estimator-doc-link:hover,\n",
              ".sk-estimator-doc-link:hover {\n",
              "  /* unfitted */\n",
              "  background-color: var(--sklearn-color-unfitted-level-3);\n",
              "  color: var(--sklearn-color-background);\n",
              "  text-decoration: none;\n",
              "}\n",
              "\n",
              "div.sk-estimator.fitted:hover .sk-estimator-doc-link.fitted:hover,\n",
              ".sk-estimator-doc-link.fitted:hover,\n",
              "div.sk-label-container:hover .sk-estimator-doc-link.fitted:hover,\n",
              ".sk-estimator-doc-link.fitted:hover {\n",
              "  /* fitted */\n",
              "  background-color: var(--sklearn-color-fitted-level-3);\n",
              "  color: var(--sklearn-color-background);\n",
              "  text-decoration: none;\n",
              "}\n",
              "\n",
              "/* Span, style for the box shown on hovering the info icon */\n",
              ".sk-estimator-doc-link span {\n",
              "  display: none;\n",
              "  z-index: 9999;\n",
              "  position: relative;\n",
              "  font-weight: normal;\n",
              "  right: .2ex;\n",
              "  padding: .5ex;\n",
              "  margin: .5ex;\n",
              "  width: min-content;\n",
              "  min-width: 20ex;\n",
              "  max-width: 50ex;\n",
              "  color: var(--sklearn-color-text);\n",
              "  box-shadow: 2pt 2pt 4pt #999;\n",
              "  /* unfitted */\n",
              "  background: var(--sklearn-color-unfitted-level-0);\n",
              "  border: .5pt solid var(--sklearn-color-unfitted-level-3);\n",
              "}\n",
              "\n",
              ".sk-estimator-doc-link.fitted span {\n",
              "  /* fitted */\n",
              "  background: var(--sklearn-color-fitted-level-0);\n",
              "  border: var(--sklearn-color-fitted-level-3);\n",
              "}\n",
              "\n",
              ".sk-estimator-doc-link:hover span {\n",
              "  display: block;\n",
              "}\n",
              "\n",
              "/* \"?\"-specific style due to the `<a>` HTML tag */\n",
              "\n",
              "#sk-container-id-8 a.estimator_doc_link {\n",
              "  float: right;\n",
              "  font-size: 1rem;\n",
              "  line-height: 1em;\n",
              "  font-family: monospace;\n",
              "  background-color: var(--sklearn-color-background);\n",
              "  border-radius: 1rem;\n",
              "  height: 1rem;\n",
              "  width: 1rem;\n",
              "  text-decoration: none;\n",
              "  /* unfitted */\n",
              "  color: var(--sklearn-color-unfitted-level-1);\n",
              "  border: var(--sklearn-color-unfitted-level-1) 1pt solid;\n",
              "}\n",
              "\n",
              "#sk-container-id-8 a.estimator_doc_link.fitted {\n",
              "  /* fitted */\n",
              "  border: var(--sklearn-color-fitted-level-1) 1pt solid;\n",
              "  color: var(--sklearn-color-fitted-level-1);\n",
              "}\n",
              "\n",
              "/* On hover */\n",
              "#sk-container-id-8 a.estimator_doc_link:hover {\n",
              "  /* unfitted */\n",
              "  background-color: var(--sklearn-color-unfitted-level-3);\n",
              "  color: var(--sklearn-color-background);\n",
              "  text-decoration: none;\n",
              "}\n",
              "\n",
              "#sk-container-id-8 a.estimator_doc_link.fitted:hover {\n",
              "  /* fitted */\n",
              "  background-color: var(--sklearn-color-fitted-level-3);\n",
              "}\n",
              "</style><div id=\"sk-container-id-8\" class=\"sk-top-container\"><div class=\"sk-text-repr-fallback\"><pre>DecisionTreeRegressor(max_depth=7, random_state=2002)</pre><b>In a Jupyter environment, please rerun this cell to show the HTML representation or trust the notebook. <br />On GitHub, the HTML representation is unable to render, please try loading this page with nbviewer.org.</b></div><div class=\"sk-container\" hidden><div class=\"sk-item\"><div class=\"sk-estimator fitted sk-toggleable\"><input class=\"sk-toggleable__control sk-hidden--visually\" id=\"sk-estimator-id-8\" type=\"checkbox\" checked><label for=\"sk-estimator-id-8\" class=\"sk-toggleable__label fitted sk-toggleable__label-arrow\"><div><div>DecisionTreeRegressor</div></div><div><a class=\"sk-estimator-doc-link fitted\" rel=\"noreferrer\" target=\"_blank\" href=\"https://scikit-learn.org/1.6/modules/generated/sklearn.tree.DecisionTreeRegressor.html\">?<span>Documentation for DecisionTreeRegressor</span></a><span class=\"sk-estimator-doc-link fitted\">i<span>Fitted</span></span></div></label><div class=\"sk-toggleable__content fitted\"><pre>DecisionTreeRegressor(max_depth=7, random_state=2002)</pre></div> </div></div></div></div>"
            ],
            "text/plain": [
              "DecisionTreeRegressor(max_depth=7, random_state=2002)"
            ]
          },
          "execution_count": 139,
          "metadata": {},
          "output_type": "execute_result"
        }
      ],
      "source": [
        "# Creación del modelo\n",
        "model_tree = DecisionTreeRegressor(max_depth=7,random_state=2002)\n",
        "# Entrenamiento del modelo\n",
        "model_tree.fit(X_train, y_train)"
      ]
    },
    {
      "cell_type": "code",
      "execution_count": 140,
      "metadata": {
        "id": "mN2LwBjfZ_Hc",
        "outputId": "220e9a75-3977-4368-ad7d-2283a0596af1"
      },
      "outputs": [
        {
          "name": "stdout",
          "output_type": "stream",
          "text": [
            "R squared of the Decision Tree Regressor on training set: 95.79%\n",
            "R squared of the Decision Tree Regressor on test set: 95.32%\n"
          ]
        }
      ],
      "source": [
        "# Evaluación del modelo\n",
        "print(\"R squared of the Decision Tree Regressor on training set: {:.2%}\".format(model_tree.score(X_train, y_train)))\n",
        "print(\"R squared of the Decision Tree Regressor on test set: {:.2%}\".format(model_tree.score(X_test, y_test)))"
      ]
    },
    {
      "cell_type": "code",
      "execution_count": 141,
      "metadata": {
        "id": "2aMiaf71Z_Hd",
        "outputId": "ea1e0689-0cc9-4738-bc05-9b0b5858b483"
      },
      "outputs": [
        {
          "name": "stdout",
          "output_type": "stream",
          "text": [
            "Modelo de regresión Árbol de decisión\n",
            "   95.32% de la variabilidad en los salarios mensuales se puede explicar utilizando las 8 características\n",
            "   Características elegidas :['ID' 'Edad' 'Experiencia_Anios' 'Horas_Entrenamiento_Mensual'\n",
            " 'Nivel_Educativo_codificado' 'Departamento_codificado'\n",
            " 'Satisfaccion_Laboral_codificado' 'Remoto_codificado'].\n"
          ]
        }
      ],
      "source": [
        "# Interpretación en el negocio\n",
        "print(interpretacion(\"Árbol de decisión\", X_train.columns, model_tree.score(X_test, y_test)))"
      ]
    },
    {
      "cell_type": "markdown",
      "metadata": {
        "id": "qAfl1EuvZ_Hd"
      },
      "source": [
        "---\n",
        "Observaciones\n",
        "\n",
        "---\n",
        "\n",
        "-"
      ]
    },
    {
      "cell_type": "code",
      "execution_count": 142,
      "metadata": {
        "id": "9OIFiPm-Z_He",
        "outputId": "cee2f43c-d550-4fe7-d65d-710ec3954885"
      },
      "outputs": [
        {
          "data": {
            "image/png": "[encoded data removed]",
            "text/plain": [
              "<Figure size 640x480 with 1 Axes>"
            ]
          },
          "metadata": {},
          "output_type": "display_data"
        }
      ],
      "source": [
        "\n",
        "# Realiza predicciones\n",
        "y_pred_tree = model_tree.predict(X_test)\n",
        "sb.scatterplot(x=y_test , y=y_pred_tree, color=\"red\")\n",
        "plt.title(\"Predicciones con DecisionTree\", fontsize=15, fontweight=\"bold\");"
      ]
    },
    {
      "cell_type": "markdown",
      "metadata": {},
      "source": [
        "---\n",
        "✅ Interpretación\n",
        "\n",
        "---\n",
        "\n",
        "+ Los puntos siguen una tendencia creciente, lo cual indica que el modelo ha capturado correctamente la relación general entre las variables.\n",
        "+ Se puede observar que muchos valores predichos se repiten de manera exacta generando esas franjas horizontales.\n",
        "+ No está generalizando con valores continuos, sino que está haciendo predicciones a partir de reglas aprendidas de los datos."
      ]
    },
    {
      "cell_type": "code",
      "execution_count": 143,
      "metadata": {
        "id": "dQAE0xfhZ_He"
      },
      "outputs": [
        {
          "data": {
            "text/plain": [
              "{'LinearRegression': [LinearRegression(),\n",
              "  0.9191687115127554,\n",
              "  0.9166336140906589],\n",
              " 'DecisionTreeRegressor': [DecisionTreeRegressor(max_depth=7, random_state=2002),\n",
              "  0.9578964955718182,\n",
              "  0.9531842282439411]}"
            ]
          },
          "execution_count": 143,
          "metadata": {},
          "output_type": "execute_result"
        }
      ],
      "source": [
        "# Guarda resultados\n",
        "history[\"DecisionTreeRegressor\"] = [model_tree, model_tree.score(X_train, y_train), model_tree.score(X_test, y_test)]\n",
        "history"
      ]
    },
    {
      "cell_type": "markdown",
      "metadata": {
        "id": "JKjtzE1cZ_Hf"
      },
      "source": [
        "---\n",
        "🎲🌳RandomForestRegressor\n",
        "\n",
        "---"
      ]
    },
    {
      "cell_type": "code",
      "execution_count": 144,
      "metadata": {
        "id": "xn_Lh1XbZ_Hf",
        "outputId": "236c5b2d-3539-46c7-e157-5becff60df85"
      },
      "outputs": [
        {
          "data": {
            "text/html": [
              "<style>#sk-container-id-9 {\n",
              "  /* Definition of color scheme common for light and dark mode */\n",
              "  --sklearn-color-text: #000;\n",
              "  --sklearn-color-text-muted: #666;\n",
              "  --sklearn-color-line: gray;\n",
              "  /* Definition of color scheme for unfitted estimators */\n",
              "  --sklearn-color-unfitted-level-0: #fff5e6;\n",
              "  --sklearn-color-unfitted-level-1: #f6e4d2;\n",
              "  --sklearn-color-unfitted-level-2: #ffe0b3;\n",
              "  --sklearn-color-unfitted-level-3: chocolate;\n",
              "  /* Definition of color scheme for fitted estimators */\n",
              "  --sklearn-color-fitted-level-0: #f0f8ff;\n",
              "  --sklearn-color-fitted-level-1: #d4ebff;\n",
              "  --sklearn-color-fitted-level-2: #b3dbfd;\n",
              "  --sklearn-color-fitted-level-3: cornflowerblue;\n",
              "\n",
              "  /* Specific color for light theme */\n",
              "  --sklearn-color-text-on-default-background: var(--sg-text-color, var(--theme-code-foreground, var(--jp-content-font-color1, black)));\n",
              "  --sklearn-color-background: var(--sg-background-color, var(--theme-background, var(--jp-layout-color0, white)));\n",
              "  --sklearn-color-border-box: var(--sg-text-color, var(--theme-code-foreground, var(--jp-content-font-color1, black)));\n",
              "  --sklearn-color-icon: #696969;\n",
              "\n",
              "  @media (prefers-color-scheme: dark) {\n",
              "    /* Redefinition of color scheme for dark theme */\n",
              "    --sklearn-color-text-on-default-background: var(--sg-text-color, var(--theme-code-foreground, var(--jp-content-font-color1, white)));\n",
              "    --sklearn-color-background: var(--sg-background-color, var(--theme-background, var(--jp-layout-color0, #111)));\n",
              "    --sklearn-color-border-box: var(--sg-text-color, var(--theme-code-foreground, var(--jp-content-font-color1, white)));\n",
              "    --sklearn-color-icon: #878787;\n",
              "  }\n",
              "}\n",
              "\n",
              "#sk-container-id-9 {\n",
              "  color: var(--sklearn-color-text);\n",
              "}\n",
              "\n",
              "#sk-container-id-9 pre {\n",
              "  padding: 0;\n",
              "}\n",
              "\n",
              "#sk-container-id-9 input.sk-hidden--visually {\n",
              "  border: 0;\n",
              "  clip: rect(1px 1px 1px 1px);\n",
              "  clip: rect(1px, 1px, 1px, 1px);\n",
              "  height: 1px;\n",
              "  margin: -1px;\n",
              "  overflow: hidden;\n",
              "  padding: 0;\n",
              "  position: absolute;\n",
              "  width: 1px;\n",
              "}\n",
              "\n",
              "#sk-container-id-9 div.sk-dashed-wrapped {\n",
              "  border: 1px dashed var(--sklearn-color-line);\n",
              "  margin: 0 0.4em 0.5em 0.4em;\n",
              "  box-sizing: border-box;\n",
              "  padding-bottom: 0.4em;\n",
              "  background-color: var(--sklearn-color-background);\n",
              "}\n",
              "\n",
              "#sk-container-id-9 div.sk-container {\n",
              "  /* jupyter's `normalize.less` sets `[hidden] { display: none; }`\n",
              "     but bootstrap.min.css set `[hidden] { display: none !important; }`\n",
              "     so we also need the `!important` here to be able to override the\n",
              "     default hidden behavior on the sphinx rendered scikit-learn.org.\n",
              "     See: https://github.com/scikit-learn/scikit-learn/issues/21755 */\n",
              "  display: inline-block !important;\n",
              "  position: relative;\n",
              "}\n",
              "\n",
              "#sk-container-id-9 div.sk-text-repr-fallback {\n",
              "  display: none;\n",
              "}\n",
              "\n",
              "div.sk-parallel-item,\n",
              "div.sk-serial,\n",
              "div.sk-item {\n",
              "  /* draw centered vertical line to link estimators */\n",
              "  background-image: linear-gradient(var(--sklearn-color-text-on-default-background), var(--sklearn-color-text-on-default-background));\n",
              "  background-size: 2px 100%;\n",
              "  background-repeat: no-repeat;\n",
              "  background-position: center center;\n",
              "}\n",
              "\n",
              "/* Parallel-specific style estimator block */\n",
              "\n",
              "#sk-container-id-9 div.sk-parallel-item::after {\n",
              "  content: \"\";\n",
              "  width: 100%;\n",
              "  border-bottom: 2px solid var(--sklearn-color-text-on-default-background);\n",
              "  flex-grow: 1;\n",
              "}\n",
              "\n",
              "#sk-container-id-9 div.sk-parallel {\n",
              "  display: flex;\n",
              "  align-items: stretch;\n",
              "  justify-content: center;\n",
              "  background-color: var(--sklearn-color-background);\n",
              "  position: relative;\n",
              "}\n",
              "\n",
              "#sk-container-id-9 div.sk-parallel-item {\n",
              "  display: flex;\n",
              "  flex-direction: column;\n",
              "}\n",
              "\n",
              "#sk-container-id-9 div.sk-parallel-item:first-child::after {\n",
              "  align-self: flex-end;\n",
              "  width: 50%;\n",
              "}\n",
              "\n",
              "#sk-container-id-9 div.sk-parallel-item:last-child::after {\n",
              "  align-self: flex-start;\n",
              "  width: 50%;\n",
              "}\n",
              "\n",
              "#sk-container-id-9 div.sk-parallel-item:only-child::after {\n",
              "  width: 0;\n",
              "}\n",
              "\n",
              "/* Serial-specific style estimator block */\n",
              "\n",
              "#sk-container-id-9 div.sk-serial {\n",
              "  display: flex;\n",
              "  flex-direction: column;\n",
              "  align-items: center;\n",
              "  background-color: var(--sklearn-color-background);\n",
              "  padding-right: 1em;\n",
              "  padding-left: 1em;\n",
              "}\n",
              "\n",
              "\n",
              "/* Toggleable style: style used for estimator/Pipeline/ColumnTransformer box that is\n",
              "clickable and can be expanded/collapsed.\n",
              "- Pipeline and ColumnTransformer use this feature and define the default style\n",
              "- Estimators will overwrite some part of the style using the `sk-estimator` class\n",
              "*/\n",
              "\n",
              "/* Pipeline and ColumnTransformer style (default) */\n",
              "\n",
              "#sk-container-id-9 div.sk-toggleable {\n",
              "  /* Default theme specific background. It is overwritten whether we have a\n",
              "  specific estimator or a Pipeline/ColumnTransformer */\n",
              "  background-color: var(--sklearn-color-background);\n",
              "}\n",
              "\n",
              "/* Toggleable label */\n",
              "#sk-container-id-9 label.sk-toggleable__label {\n",
              "  cursor: pointer;\n",
              "  display: flex;\n",
              "  width: 100%;\n",
              "  margin-bottom: 0;\n",
              "  padding: 0.5em;\n",
              "  box-sizing: border-box;\n",
              "  text-align: center;\n",
              "  align-items: start;\n",
              "  justify-content: space-between;\n",
              "  gap: 0.5em;\n",
              "}\n",
              "\n",
              "#sk-container-id-9 label.sk-toggleable__label .caption {\n",
              "  font-size: 0.6rem;\n",
              "  font-weight: lighter;\n",
              "  color: var(--sklearn-color-text-muted);\n",
              "}\n",
              "\n",
              "#sk-container-id-9 label.sk-toggleable__label-arrow:before {\n",
              "  /* Arrow on the left of the label */\n",
              "  content: \"▸\";\n",
              "  float: left;\n",
              "  margin-right: 0.25em;\n",
              "  color: var(--sklearn-color-icon);\n",
              "}\n",
              "\n",
              "#sk-container-id-9 label.sk-toggleable__label-arrow:hover:before {\n",
              "  color: var(--sklearn-color-text);\n",
              "}\n",
              "\n",
              "/* Toggleable content - dropdown */\n",
              "\n",
              "#sk-container-id-9 div.sk-toggleable__content {\n",
              "  max-height: 0;\n",
              "  max-width: 0;\n",
              "  overflow: hidden;\n",
              "  text-align: left;\n",
              "  /* unfitted */\n",
              "  background-color: var(--sklearn-color-unfitted-level-0);\n",
              "}\n",
              "\n",
              "#sk-container-id-9 div.sk-toggleable__content.fitted {\n",
              "  /* fitted */\n",
              "  background-color: var(--sklearn-color-fitted-level-0);\n",
              "}\n",
              "\n",
              "#sk-container-id-9 div.sk-toggleable__content pre {\n",
              "  margin: 0.2em;\n",
              "  border-radius: 0.25em;\n",
              "  color: var(--sklearn-color-text);\n",
              "  /* unfitted */\n",
              "  background-color: var(--sklearn-color-unfitted-level-0);\n",
              "}\n",
              "\n",
              "#sk-container-id-9 div.sk-toggleable__content.fitted pre {\n",
              "  /* unfitted */\n",
              "  background-color: var(--sklearn-color-fitted-level-0);\n",
              "}\n",
              "\n",
              "#sk-container-id-9 input.sk-toggleable__control:checked~div.sk-toggleable__content {\n",
              "  /* Expand drop-down */\n",
              "  max-height: 200px;\n",
              "  max-width: 100%;\n",
              "  overflow: auto;\n",
              "}\n",
              "\n",
              "#sk-container-id-9 input.sk-toggleable__control:checked~label.sk-toggleable__label-arrow:before {\n",
              "  content: \"▾\";\n",
              "}\n",
              "\n",
              "/* Pipeline/ColumnTransformer-specific style */\n",
              "\n",
              "#sk-container-id-9 div.sk-label input.sk-toggleable__control:checked~label.sk-toggleable__label {\n",
              "  color: var(--sklearn-color-text);\n",
              "  background-color: var(--sklearn-color-unfitted-level-2);\n",
              "}\n",
              "\n",
              "#sk-container-id-9 div.sk-label.fitted input.sk-toggleable__control:checked~label.sk-toggleable__label {\n",
              "  background-color: var(--sklearn-color-fitted-level-2);\n",
              "}\n",
              "\n",
              "/* Estimator-specific style */\n",
              "\n",
              "/* Colorize estimator box */\n",
              "#sk-container-id-9 div.sk-estimator input.sk-toggleable__control:checked~label.sk-toggleable__label {\n",
              "  /* unfitted */\n",
              "  background-color: var(--sklearn-color-unfitted-level-2);\n",
              "}\n",
              "\n",
              "#sk-container-id-9 div.sk-estimator.fitted input.sk-toggleable__control:checked~label.sk-toggleable__label {\n",
              "  /* fitted */\n",
              "  background-color: var(--sklearn-color-fitted-level-2);\n",
              "}\n",
              "\n",
              "#sk-container-id-9 div.sk-label label.sk-toggleable__label,\n",
              "#sk-container-id-9 div.sk-label label {\n",
              "  /* The background is the default theme color */\n",
              "  color: var(--sklearn-color-text-on-default-background);\n",
              "}\n",
              "\n",
              "/* On hover, darken the color of the background */\n",
              "#sk-container-id-9 div.sk-label:hover label.sk-toggleable__label {\n",
              "  color: var(--sklearn-color-text);\n",
              "  background-color: var(--sklearn-color-unfitted-level-2);\n",
              "}\n",
              "\n",
              "/* Label box, darken color on hover, fitted */\n",
              "#sk-container-id-9 div.sk-label.fitted:hover label.sk-toggleable__label.fitted {\n",
              "  color: var(--sklearn-color-text);\n",
              "  background-color: var(--sklearn-color-fitted-level-2);\n",
              "}\n",
              "\n",
              "/* Estimator label */\n",
              "\n",
              "#sk-container-id-9 div.sk-label label {\n",
              "  font-family: monospace;\n",
              "  font-weight: bold;\n",
              "  display: inline-block;\n",
              "  line-height: 1.2em;\n",
              "}\n",
              "\n",
              "#sk-container-id-9 div.sk-label-container {\n",
              "  text-align: center;\n",
              "}\n",
              "\n",
              "/* Estimator-specific */\n",
              "#sk-container-id-9 div.sk-estimator {\n",
              "  font-family: monospace;\n",
              "  border: 1px dotted var(--sklearn-color-border-box);\n",
              "  border-radius: 0.25em;\n",
              "  box-sizing: border-box;\n",
              "  margin-bottom: 0.5em;\n",
              "  /* unfitted */\n",
              "  background-color: var(--sklearn-color-unfitted-level-0);\n",
              "}\n",
              "\n",
              "#sk-container-id-9 div.sk-estimator.fitted {\n",
              "  /* fitted */\n",
              "  background-color: var(--sklearn-color-fitted-level-0);\n",
              "}\n",
              "\n",
              "/* on hover */\n",
              "#sk-container-id-9 div.sk-estimator:hover {\n",
              "  /* unfitted */\n",
              "  background-color: var(--sklearn-color-unfitted-level-2);\n",
              "}\n",
              "\n",
              "#sk-container-id-9 div.sk-estimator.fitted:hover {\n",
              "  /* fitted */\n",
              "  background-color: var(--sklearn-color-fitted-level-2);\n",
              "}\n",
              "\n",
              "/* Specification for estimator info (e.g. \"i\" and \"?\") */\n",
              "\n",
              "/* Common style for \"i\" and \"?\" */\n",
              "\n",
              ".sk-estimator-doc-link,\n",
              "a:link.sk-estimator-doc-link,\n",
              "a:visited.sk-estimator-doc-link {\n",
              "  float: right;\n",
              "  font-size: smaller;\n",
              "  line-height: 1em;\n",
              "  font-family: monospace;\n",
              "  background-color: var(--sklearn-color-background);\n",
              "  border-radius: 1em;\n",
              "  height: 1em;\n",
              "  width: 1em;\n",
              "  text-decoration: none !important;\n",
              "  margin-left: 0.5em;\n",
              "  text-align: center;\n",
              "  /* unfitted */\n",
              "  border: var(--sklearn-color-unfitted-level-1) 1pt solid;\n",
              "  color: var(--sklearn-color-unfitted-level-1);\n",
              "}\n",
              "\n",
              ".sk-estimator-doc-link.fitted,\n",
              "a:link.sk-estimator-doc-link.fitted,\n",
              "a:visited.sk-estimator-doc-link.fitted {\n",
              "  /* fitted */\n",
              "  border: var(--sklearn-color-fitted-level-1) 1pt solid;\n",
              "  color: var(--sklearn-color-fitted-level-1);\n",
              "}\n",
              "\n",
              "/* On hover */\n",
              "div.sk-estimator:hover .sk-estimator-doc-link:hover,\n",
              ".sk-estimator-doc-link:hover,\n",
              "div.sk-label-container:hover .sk-estimator-doc-link:hover,\n",
              ".sk-estimator-doc-link:hover {\n",
              "  /* unfitted */\n",
              "  background-color: var(--sklearn-color-unfitted-level-3);\n",
              "  color: var(--sklearn-color-background);\n",
              "  text-decoration: none;\n",
              "}\n",
              "\n",
              "div.sk-estimator.fitted:hover .sk-estimator-doc-link.fitted:hover,\n",
              ".sk-estimator-doc-link.fitted:hover,\n",
              "div.sk-label-container:hover .sk-estimator-doc-link.fitted:hover,\n",
              ".sk-estimator-doc-link.fitted:hover {\n",
              "  /* fitted */\n",
              "  background-color: var(--sklearn-color-fitted-level-3);\n",
              "  color: var(--sklearn-color-background);\n",
              "  text-decoration: none;\n",
              "}\n",
              "\n",
              "/* Span, style for the box shown on hovering the info icon */\n",
              ".sk-estimator-doc-link span {\n",
              "  display: none;\n",
              "  z-index: 9999;\n",
              "  position: relative;\n",
              "  font-weight: normal;\n",
              "  right: .2ex;\n",
              "  padding: .5ex;\n",
              "  margin: .5ex;\n",
              "  width: min-content;\n",
              "  min-width: 20ex;\n",
              "  max-width: 50ex;\n",
              "  color: var(--sklearn-color-text);\n",
              "  box-shadow: 2pt 2pt 4pt #999;\n",
              "  /* unfitted */\n",
              "  background: var(--sklearn-color-unfitted-level-0);\n",
              "  border: .5pt solid var(--sklearn-color-unfitted-level-3);\n",
              "}\n",
              "\n",
              ".sk-estimator-doc-link.fitted span {\n",
              "  /* fitted */\n",
              "  background: var(--sklearn-color-fitted-level-0);\n",
              "  border: var(--sklearn-color-fitted-level-3);\n",
              "}\n",
              "\n",
              ".sk-estimator-doc-link:hover span {\n",
              "  display: block;\n",
              "}\n",
              "\n",
              "/* \"?\"-specific style due to the `<a>` HTML tag */\n",
              "\n",
              "#sk-container-id-9 a.estimator_doc_link {\n",
              "  float: right;\n",
              "  font-size: 1rem;\n",
              "  line-height: 1em;\n",
              "  font-family: monospace;\n",
              "  background-color: var(--sklearn-color-background);\n",
              "  border-radius: 1rem;\n",
              "  height: 1rem;\n",
              "  width: 1rem;\n",
              "  text-decoration: none;\n",
              "  /* unfitted */\n",
              "  color: var(--sklearn-color-unfitted-level-1);\n",
              "  border: var(--sklearn-color-unfitted-level-1) 1pt solid;\n",
              "}\n",
              "\n",
              "#sk-container-id-9 a.estimator_doc_link.fitted {\n",
              "  /* fitted */\n",
              "  border: var(--sklearn-color-fitted-level-1) 1pt solid;\n",
              "  color: var(--sklearn-color-fitted-level-1);\n",
              "}\n",
              "\n",
              "/* On hover */\n",
              "#sk-container-id-9 a.estimator_doc_link:hover {\n",
              "  /* unfitted */\n",
              "  background-color: var(--sklearn-color-unfitted-level-3);\n",
              "  color: var(--sklearn-color-background);\n",
              "  text-decoration: none;\n",
              "}\n",
              "\n",
              "#sk-container-id-9 a.estimator_doc_link.fitted:hover {\n",
              "  /* fitted */\n",
              "  background-color: var(--sklearn-color-fitted-level-3);\n",
              "}\n",
              "</style><div id=\"sk-container-id-9\" class=\"sk-top-container\"><div class=\"sk-text-repr-fallback\"><pre>RandomForestRegressor(n_estimators=30, random_state=29)</pre><b>In a Jupyter environment, please rerun this cell to show the HTML representation or trust the notebook. <br />On GitHub, the HTML representation is unable to render, please try loading this page with nbviewer.org.</b></div><div class=\"sk-container\" hidden><div class=\"sk-item\"><div class=\"sk-estimator fitted sk-toggleable\"><input class=\"sk-toggleable__control sk-hidden--visually\" id=\"sk-estimator-id-9\" type=\"checkbox\" checked><label for=\"sk-estimator-id-9\" class=\"sk-toggleable__label fitted sk-toggleable__label-arrow\"><div><div>RandomForestRegressor</div></div><div><a class=\"sk-estimator-doc-link fitted\" rel=\"noreferrer\" target=\"_blank\" href=\"https://scikit-learn.org/1.6/modules/generated/sklearn.ensemble.RandomForestRegressor.html\">?<span>Documentation for RandomForestRegressor</span></a><span class=\"sk-estimator-doc-link fitted\">i<span>Fitted</span></span></div></label><div class=\"sk-toggleable__content fitted\"><pre>RandomForestRegressor(n_estimators=30, random_state=29)</pre></div> </div></div></div></div>"
            ],
            "text/plain": [
              "RandomForestRegressor(n_estimators=30, random_state=29)"
            ]
          },
          "execution_count": 144,
          "metadata": {},
          "output_type": "execute_result"
        }
      ],
      "source": [
        "# Creación del modelo\n",
        "model_rf = RandomForestRegressor(n_estimators=30, random_state=29)\n",
        "# Entrenamiento del modelo\n",
        "model_rf.fit(X_train, y_train)"
      ]
    },
    {
      "cell_type": "code",
      "execution_count": 145,
      "metadata": {
        "id": "n7_rXto6Z_Hg",
        "outputId": "94fdfd13-9f5d-4548-9c32-b8ceed18d565"
      },
      "outputs": [
        {
          "name": "stdout",
          "output_type": "stream",
          "text": [
            "R squared of the Random Forest Regressor on training set: 99.38%\n",
            "R squared of the Random Forest Regressor on test set: 96.05%\n"
          ]
        }
      ],
      "source": [
        "# Evaluación\n",
        "print(\"R squared of the Random Forest Regressor on training set: {:.2%}\".format(model_rf.score(X_train, y_train)))\n",
        "print(\"R squared of the Random Forest Regressor on test set: {:.2%}\".format(model_rf.score(X_test, y_test))) "
      ]
    },
    {
      "cell_type": "code",
      "execution_count": 146,
      "metadata": {
        "id": "vhxVNPlAZ_Hh",
        "outputId": "f6e5e0ca-c224-487e-91d5-35e5b23ec5a7"
      },
      "outputs": [
        {
          "name": "stdout",
          "output_type": "stream",
          "text": [
            "Modelo de regresión RandomForest\n",
            "   96.05% de la variabilidad en los salarios mensuales se puede explicar utilizando las 8 características\n",
            "   Características elegidas :['ID' 'Edad' 'Experiencia_Anios' 'Horas_Entrenamiento_Mensual'\n",
            " 'Nivel_Educativo_codificado' 'Departamento_codificado'\n",
            " 'Satisfaccion_Laboral_codificado' 'Remoto_codificado'].\n"
          ]
        }
      ],
      "source": [
        "# Interpretación en el negocio\n",
        "print(interpretacion(\"RandomForest\", X_train.columns, model_rf.score(X_test, y_test)))"
      ]
    },
    {
      "cell_type": "markdown",
      "metadata": {
        "id": "JxrmyiXcZ_Hh"
      },
      "source": [
        "---\n",
        "Observaciones\n",
        "\n",
        "---"
      ]
    },
    {
      "cell_type": "code",
      "execution_count": 147,
      "metadata": {
        "id": "9-AUFoNYZ_Hi",
        "outputId": "d6554bc9-e911-4096-89c1-1d60b4b0105f"
      },
      "outputs": [
        {
          "data": {
            "text/plain": [
              "Text(0.5, 1.0, 'Predicciones con RandomForest')"
            ]
          },
          "execution_count": 147,
          "metadata": {},
          "output_type": "execute_result"
        },
        {
          "data": {
            "image/png": "[encoded data removed]",
            "text/plain": [
              "<Figure size 640x480 with 1 Axes>"
            ]
          },
          "metadata": {},
          "output_type": "display_data"
        }
      ],
      "source": [
        "y_pred_rf = model_rf.predict(X_test)\n",
        "sb.scatterplot(x=y_test , y=y_pred_rf, color=\"green\")\n",
        "plt.title(\"Predicciones con RandomForest\", fontsize=15, fontweight=\"bold\")"
      ]
    },
    {
      "cell_type": "markdown",
      "metadata": {},
      "source": [
        "---\n",
        "✅ Interpretación\n",
        "\n",
        "---\n",
        "\n",
        "+ Los puntos están muy próximos a una línea recta diagonal, lo que indica que el modelo está realizando predicciones precisas.\n",
        "+ En general está realizando predicciones más precisas que el modelo LinearRegression.\n",
        "+ A diferencia del modelo DecisionTreeRregressor, RandomForest no tiene franjas horizontales y las predicciones se ven mas continuas."
      ]
    },
    {
      "cell_type": "code",
      "execution_count": 148,
      "metadata": {
        "id": "U0ZTlTHAZ_Hj"
      },
      "outputs": [
        {
          "data": {
            "text/plain": [
              "{'LinearRegression': [LinearRegression(),\n",
              "  0.9191687115127554,\n",
              "  0.9166336140906589],\n",
              " 'DecisionTreeRegressor': [DecisionTreeRegressor(max_depth=7, random_state=2002),\n",
              "  0.9578964955718182,\n",
              "  0.9531842282439411],\n",
              " 'RandomForestRegressor': [RandomForestRegressor(n_estimators=30, random_state=29),\n",
              "  0.9937790804240036,\n",
              "  0.9604873594221774]}"
            ]
          },
          "execution_count": 148,
          "metadata": {},
          "output_type": "execute_result"
        }
      ],
      "source": [
        "# Guarda resultados\n",
        "history[\"RandomForestRegressor\"] = [model_rf, model_rf.score(X_train, y_train), model_rf.score(X_test, y_test)]\n",
        "history"
      ]
    },
    {
      "cell_type": "code",
      "execution_count": 149,
      "metadata": {},
      "outputs": [
        {
          "data": {
            "text/plain": [
              "{'LinearRegression': [LinearRegression(),\n",
              "  0.9191687115127554,\n",
              "  0.9166336140906589],\n",
              " 'DecisionTreeRegressor': [DecisionTreeRegressor(max_depth=7, random_state=2002),\n",
              "  0.9578964955718182,\n",
              "  0.9531842282439411],\n",
              " 'RandomForestRegressor': [RandomForestRegressor(n_estimators=30, random_state=29),\n",
              "  0.9937790804240036,\n",
              "  0.9604873594221774]}"
            ]
          },
          "execution_count": 149,
          "metadata": {},
          "output_type": "execute_result"
        }
      ],
      "source": [
        "history"
      ]
    },
    {
      "cell_type": "markdown",
      "metadata": {
        "id": "bZtt3xbIpiJF"
      },
      "source": [
        "## Con selección de características por parte del equipo"
      ]
    },
    {
      "cell_type": "code",
      "execution_count": 150,
      "metadata": {},
      "outputs": [],
      "source": [
        "# POR COMPLETAR\n",
        "# Vamos a trabajar con las caracteristicas de experiencia años, nivel educativo y departamento.\n",
        "# la razón es que son en nuestra opinion las variables que más influyen en el salario mensual."
      ]
    },
    {
      "cell_type": "markdown",
      "metadata": {
        "id": "Qmw0039lnrwF"
      },
      "source": [
        "# Fase 5 - Evaluación"
      ]
    },
    {
      "cell_type": "code",
      "execution_count": 151,
      "metadata": {},
      "outputs": [],
      "source": [
        "def mae_interpretacion(modelo : str, value : float):\n",
        "  print(f\"El moodelo '{modelo}' pudo predecir el sueldo de los trabajadores de PeopleGrow Solution en el conjunto de prueba con un error de ± $ {value:.2f} del sueldo real.\")\n",
        "\n",
        "def msle_interpretacion(modelo : str, value : float):\n",
        "  print(f\"El modelo '{modelo}' pudo predecir el sueldo de los trabajadores de PeopleGrow Solution en el conjunto de prueba con un error de ± {value: .2%} del sueldo real.\")"
      ]
    },
    {
      "cell_type": "markdown",
      "metadata": {},
      "source": [
        "## LinearRegressor"
      ]
    },
    {
      "cell_type": "code",
      "execution_count": 152,
      "metadata": {},
      "outputs": [
        {
          "data": {
            "text/html": [
              "<div>\n",
              "<style scoped>\n",
              "    .dataframe tbody tr th:only-of-type {\n",
              "        vertical-align: middle;\n",
              "    }\n",
              "\n",
              "    .dataframe tbody tr th {\n",
              "        vertical-align: top;\n",
              "    }\n",
              "\n",
              "    .dataframe thead th {\n",
              "        text-align: right;\n",
              "    }\n",
              "</style>\n",
              "<table border=\"1\" class=\"dataframe\">\n",
              "  <thead>\n",
              "    <tr style=\"text-align: right;\">\n",
              "      <th></th>\n",
              "      <th>real</th>\n",
              "      <th>prediccion</th>\n",
              "      <th>delta</th>\n",
              "    </tr>\n",
              "  </thead>\n",
              "  <tbody>\n",
              "    <tr>\n",
              "      <th>6613</th>\n",
              "      <td>5531.60</td>\n",
              "      <td>5092.817921</td>\n",
              "      <td>-438.782079</td>\n",
              "    </tr>\n",
              "    <tr>\n",
              "      <th>8829</th>\n",
              "      <td>5430.88</td>\n",
              "      <td>5681.487722</td>\n",
              "      <td>250.607722</td>\n",
              "    </tr>\n",
              "    <tr>\n",
              "      <th>9183</th>\n",
              "      <td>5419.57</td>\n",
              "      <td>5256.657216</td>\n",
              "      <td>-162.912784</td>\n",
              "    </tr>\n",
              "    <tr>\n",
              "      <th>9518</th>\n",
              "      <td>5947.43</td>\n",
              "      <td>5715.212119</td>\n",
              "      <td>-232.217881</td>\n",
              "    </tr>\n",
              "    <tr>\n",
              "      <th>4916</th>\n",
              "      <td>6929.88</td>\n",
              "      <td>7551.133317</td>\n",
              "      <td>621.253317</td>\n",
              "    </tr>\n",
              "    <tr>\n",
              "      <th>...</th>\n",
              "      <td>...</td>\n",
              "      <td>...</td>\n",
              "      <td>...</td>\n",
              "    </tr>\n",
              "    <tr>\n",
              "      <th>2314</th>\n",
              "      <td>5793.53</td>\n",
              "      <td>5497.098125</td>\n",
              "      <td>-296.431875</td>\n",
              "    </tr>\n",
              "    <tr>\n",
              "      <th>1924</th>\n",
              "      <td>6442.37</td>\n",
              "      <td>7254.825634</td>\n",
              "      <td>812.455634</td>\n",
              "    </tr>\n",
              "    <tr>\n",
              "      <th>6026</th>\n",
              "      <td>4469.23</td>\n",
              "      <td>5337.312900</td>\n",
              "      <td>868.082900</td>\n",
              "    </tr>\n",
              "    <tr>\n",
              "      <th>4104</th>\n",
              "      <td>6321.85</td>\n",
              "      <td>5950.309938</td>\n",
              "      <td>-371.540062</td>\n",
              "    </tr>\n",
              "    <tr>\n",
              "      <th>8217</th>\n",
              "      <td>7659.52</td>\n",
              "      <td>8336.017403</td>\n",
              "      <td>676.497403</td>\n",
              "    </tr>\n",
              "  </tbody>\n",
              "</table>\n",
              "<p>3000 rows × 3 columns</p>\n",
              "</div>"
            ],
            "text/plain": [
              "         real   prediccion       delta\n",
              "6613  5531.60  5092.817921 -438.782079\n",
              "8829  5430.88  5681.487722  250.607722\n",
              "9183  5419.57  5256.657216 -162.912784\n",
              "9518  5947.43  5715.212119 -232.217881\n",
              "4916  6929.88  7551.133317  621.253317\n",
              "...       ...          ...         ...\n",
              "2314  5793.53  5497.098125 -296.431875\n",
              "1924  6442.37  7254.825634  812.455634\n",
              "6026  4469.23  5337.312900  868.082900\n",
              "4104  6321.85  5950.309938 -371.540062\n",
              "8217  7659.52  8336.017403  676.497403\n",
              "\n",
              "[3000 rows x 3 columns]"
            ]
          },
          "execution_count": 152,
          "metadata": {},
          "output_type": "execute_result"
        }
      ],
      "source": [
        "# Evaluando el Modelo de Regresión Lineal\n",
        "#\n",
        "d = {\"real\": y_test, \"prediccion\": y_pred}\n",
        "df_lr = pd.DataFrame(data=d)\n",
        "df_lr[\"delta\"] = df_lr[\"prediccion\"]-df_lr[\"real\"]\n",
        "df_lr"
      ]
    },
    {
      "cell_type": "code",
      "execution_count": 153,
      "metadata": {},
      "outputs": [
        {
          "name": "stdout",
          "output_type": "stream",
          "text": [
            "Mean Absolute Error of the Linear Regression on test set is 390.02\n",
            "El moodelo 'Regresión lineal' pudo predecir el sueldo de los trabajadores de PeopleGrow Solution en el conjunto de prueba con un error de ± $ 390.02 del sueldo real.\n"
          ]
        }
      ],
      "source": [
        "print(\"Mean Absolute Error of the Linear Regression on test set is {:.2f}\".format(mean_absolute_error(y_test, y_pred)))\n",
        "mae_interpretacion(\"Regresión lineal\", mean_absolute_error(y_test, y_pred))"
      ]
    },
    {
      "cell_type": "code",
      "execution_count": 154,
      "metadata": {},
      "outputs": [
        {
          "name": "stdout",
          "output_type": "stream",
          "text": [
            "Mean Squared Log Error of the Linear Regression on test set is 0.93%\n",
            "El modelo 'Regresión lineal' pudo predecir el sueldo de los trabajadores de PeopleGrow Solution en el conjunto de prueba con un error de ±  0.93% del sueldo real.\n"
          ]
        }
      ],
      "source": [
        "print(\"Mean Squared Log Error of the Linear Regression on test set is {:.2%}\".format(mean_squared_log_error(y_test,y_pred)))\n",
        "msle_interpretacion(\"Regresión lineal\", mean_squared_log_error(y_test,y_pred))"
      ]
    },
    {
      "cell_type": "markdown",
      "metadata": {},
      "source": [
        "## DecisionTreeRegressor "
      ]
    },
    {
      "cell_type": "code",
      "execution_count": 155,
      "metadata": {},
      "outputs": [
        {
          "data": {
            "text/html": [
              "<div>\n",
              "<style scoped>\n",
              "    .dataframe tbody tr th:only-of-type {\n",
              "        vertical-align: middle;\n",
              "    }\n",
              "\n",
              "    .dataframe tbody tr th {\n",
              "        vertical-align: top;\n",
              "    }\n",
              "\n",
              "    .dataframe thead th {\n",
              "        text-align: right;\n",
              "    }\n",
              "</style>\n",
              "<table border=\"1\" class=\"dataframe\">\n",
              "  <thead>\n",
              "    <tr style=\"text-align: right;\">\n",
              "      <th></th>\n",
              "      <th>real</th>\n",
              "      <th>prediccion</th>\n",
              "      <th>delta</th>\n",
              "    </tr>\n",
              "  </thead>\n",
              "  <tbody>\n",
              "    <tr>\n",
              "      <th>6613</th>\n",
              "      <td>5531.60</td>\n",
              "      <td>5384.724167</td>\n",
              "      <td>-146.875833</td>\n",
              "    </tr>\n",
              "    <tr>\n",
              "      <th>8829</th>\n",
              "      <td>5430.88</td>\n",
              "      <td>5124.627823</td>\n",
              "      <td>-306.252177</td>\n",
              "    </tr>\n",
              "    <tr>\n",
              "      <th>9183</th>\n",
              "      <td>5419.57</td>\n",
              "      <td>4523.791209</td>\n",
              "      <td>-895.778791</td>\n",
              "    </tr>\n",
              "    <tr>\n",
              "      <th>9518</th>\n",
              "      <td>5947.43</td>\n",
              "      <td>6134.877083</td>\n",
              "      <td>187.447083</td>\n",
              "    </tr>\n",
              "    <tr>\n",
              "      <th>4916</th>\n",
              "      <td>6929.88</td>\n",
              "      <td>7337.837956</td>\n",
              "      <td>407.957956</td>\n",
              "    </tr>\n",
              "    <tr>\n",
              "      <th>...</th>\n",
              "      <td>...</td>\n",
              "      <td>...</td>\n",
              "      <td>...</td>\n",
              "    </tr>\n",
              "    <tr>\n",
              "      <th>2314</th>\n",
              "      <td>5793.53</td>\n",
              "      <td>5713.302391</td>\n",
              "      <td>-80.227609</td>\n",
              "    </tr>\n",
              "    <tr>\n",
              "      <th>1924</th>\n",
              "      <td>6442.37</td>\n",
              "      <td>6490.181481</td>\n",
              "      <td>47.811481</td>\n",
              "    </tr>\n",
              "    <tr>\n",
              "      <th>6026</th>\n",
              "      <td>4469.23</td>\n",
              "      <td>4849.483173</td>\n",
              "      <td>380.253173</td>\n",
              "    </tr>\n",
              "    <tr>\n",
              "      <th>4104</th>\n",
              "      <td>6321.85</td>\n",
              "      <td>6242.171556</td>\n",
              "      <td>-79.678444</td>\n",
              "    </tr>\n",
              "    <tr>\n",
              "      <th>8217</th>\n",
              "      <td>7659.52</td>\n",
              "      <td>7961.098178</td>\n",
              "      <td>301.578178</td>\n",
              "    </tr>\n",
              "  </tbody>\n",
              "</table>\n",
              "<p>3000 rows × 3 columns</p>\n",
              "</div>"
            ],
            "text/plain": [
              "         real   prediccion       delta\n",
              "6613  5531.60  5384.724167 -146.875833\n",
              "8829  5430.88  5124.627823 -306.252177\n",
              "9183  5419.57  4523.791209 -895.778791\n",
              "9518  5947.43  6134.877083  187.447083\n",
              "4916  6929.88  7337.837956  407.957956\n",
              "...       ...          ...         ...\n",
              "2314  5793.53  5713.302391  -80.227609\n",
              "1924  6442.37  6490.181481   47.811481\n",
              "6026  4469.23  4849.483173  380.253173\n",
              "4104  6321.85  6242.171556  -79.678444\n",
              "8217  7659.52  7961.098178  301.578178\n",
              "\n",
              "[3000 rows x 3 columns]"
            ]
          },
          "execution_count": 155,
          "metadata": {},
          "output_type": "execute_result"
        }
      ],
      "source": [
        "# Evaluando el Modelo de Árbol de Decisión de regresión\n",
        "#\n",
        "d = {\"real\": y_test, \"prediccion\": y_pred_tree}\n",
        "df_dt = pd.DataFrame(data=d)\n",
        "df_dt[\"delta\"] = df_dt[\"prediccion\"]-df_dt[\"real\"]\n",
        "df_dt"
      ]
    },
    {
      "cell_type": "code",
      "execution_count": 156,
      "metadata": {},
      "outputs": [
        {
          "name": "stdout",
          "output_type": "stream",
          "text": [
            "Mean Absolute Error of the Decision Tree Regressor on test set is 287.91\n",
            "El moodelo 'DecisionTreeRegressor ' pudo predecir el sueldo de los trabajadores de PeopleGrow Solution en el conjunto de prueba con un error de ± $ 287.91 del sueldo real.\n"
          ]
        }
      ],
      "source": [
        "print(\"Mean Absolute Error of the Decision Tree Regressor on test set is {:.2f}\".format(mean_absolute_error(y_test,y_pred_tree)))\n",
        "mae_interpretacion(\"DecisionTreeRegressor \", mean_absolute_error(y_test,y_pred_tree))"
      ]
    },
    {
      "cell_type": "code",
      "execution_count": 157,
      "metadata": {},
      "outputs": [
        {
          "name": "stdout",
          "output_type": "stream",
          "text": [
            "Mean Squared Log Error of the Decision Tree Regressor on test set is 0.54%\n",
            "El modelo 'DecisionTreeRegressor ' pudo predecir el sueldo de los trabajadores de PeopleGrow Solution en el conjunto de prueba con un error de ±  0.54% del sueldo real.\n"
          ]
        }
      ],
      "source": [
        "print(\"Mean Squared Log Error of the Decision Tree Regressor on test set is {:.2%}\".format(mean_squared_log_error(y_test,y_pred_tree)))\n",
        "msle_interpretacion(\"DecisionTreeRegressor \", mean_squared_log_error(y_test,y_pred_tree))"
      ]
    },
    {
      "cell_type": "markdown",
      "metadata": {},
      "source": [
        "## RandomForest"
      ]
    },
    {
      "cell_type": "code",
      "execution_count": 158,
      "metadata": {},
      "outputs": [
        {
          "data": {
            "text/html": [
              "<div>\n",
              "<style scoped>\n",
              "    .dataframe tbody tr th:only-of-type {\n",
              "        vertical-align: middle;\n",
              "    }\n",
              "\n",
              "    .dataframe tbody tr th {\n",
              "        vertical-align: top;\n",
              "    }\n",
              "\n",
              "    .dataframe thead th {\n",
              "        text-align: right;\n",
              "    }\n",
              "</style>\n",
              "<table border=\"1\" class=\"dataframe\">\n",
              "  <thead>\n",
              "    <tr style=\"text-align: right;\">\n",
              "      <th></th>\n",
              "      <th>real</th>\n",
              "      <th>prediccion</th>\n",
              "      <th>delta</th>\n",
              "    </tr>\n",
              "  </thead>\n",
              "  <tbody>\n",
              "    <tr>\n",
              "      <th>6613</th>\n",
              "      <td>5531.60</td>\n",
              "      <td>5414.301000</td>\n",
              "      <td>-117.299000</td>\n",
              "    </tr>\n",
              "    <tr>\n",
              "      <th>8829</th>\n",
              "      <td>5430.88</td>\n",
              "      <td>5212.011000</td>\n",
              "      <td>-218.869000</td>\n",
              "    </tr>\n",
              "    <tr>\n",
              "      <th>9183</th>\n",
              "      <td>5419.57</td>\n",
              "      <td>4987.665000</td>\n",
              "      <td>-431.905000</td>\n",
              "    </tr>\n",
              "    <tr>\n",
              "      <th>9518</th>\n",
              "      <td>5947.43</td>\n",
              "      <td>6281.289000</td>\n",
              "      <td>333.859000</td>\n",
              "    </tr>\n",
              "    <tr>\n",
              "      <th>4916</th>\n",
              "      <td>6929.88</td>\n",
              "      <td>7066.401000</td>\n",
              "      <td>136.521000</td>\n",
              "    </tr>\n",
              "    <tr>\n",
              "      <th>...</th>\n",
              "      <td>...</td>\n",
              "      <td>...</td>\n",
              "      <td>...</td>\n",
              "    </tr>\n",
              "    <tr>\n",
              "      <th>2314</th>\n",
              "      <td>5793.53</td>\n",
              "      <td>5616.723000</td>\n",
              "      <td>-176.807000</td>\n",
              "    </tr>\n",
              "    <tr>\n",
              "      <th>1924</th>\n",
              "      <td>6442.37</td>\n",
              "      <td>6641.016667</td>\n",
              "      <td>198.646667</td>\n",
              "    </tr>\n",
              "    <tr>\n",
              "      <th>6026</th>\n",
              "      <td>4469.23</td>\n",
              "      <td>4758.868333</td>\n",
              "      <td>289.638333</td>\n",
              "    </tr>\n",
              "    <tr>\n",
              "      <th>4104</th>\n",
              "      <td>6321.85</td>\n",
              "      <td>6151.650667</td>\n",
              "      <td>-170.199333</td>\n",
              "    </tr>\n",
              "    <tr>\n",
              "      <th>8217</th>\n",
              "      <td>7659.52</td>\n",
              "      <td>7955.713333</td>\n",
              "      <td>296.193333</td>\n",
              "    </tr>\n",
              "  </tbody>\n",
              "</table>\n",
              "<p>3000 rows × 3 columns</p>\n",
              "</div>"
            ],
            "text/plain": [
              "         real   prediccion       delta\n",
              "6613  5531.60  5414.301000 -117.299000\n",
              "8829  5430.88  5212.011000 -218.869000\n",
              "9183  5419.57  4987.665000 -431.905000\n",
              "9518  5947.43  6281.289000  333.859000\n",
              "4916  6929.88  7066.401000  136.521000\n",
              "...       ...          ...         ...\n",
              "2314  5793.53  5616.723000 -176.807000\n",
              "1924  6442.37  6641.016667  198.646667\n",
              "6026  4469.23  4758.868333  289.638333\n",
              "4104  6321.85  6151.650667 -170.199333\n",
              "8217  7659.52  7955.713333  296.193333\n",
              "\n",
              "[3000 rows x 3 columns]"
            ]
          },
          "execution_count": 158,
          "metadata": {},
          "output_type": "execute_result"
        }
      ],
      "source": [
        "# # Evaluando el Modelo de Bosque Aleatorio de árboles de decisión\n",
        "#\n",
        "d = {\"real\": y_test, \"prediccion\": y_pred_rf}\n",
        "df_rf = pd.DataFrame(data=d)\n",
        "df_rf[\"delta\"] = df_rf[\"prediccion\"]-df_rf[\"real\"]\n",
        "df_rf"
      ]
    },
    {
      "cell_type": "code",
      "execution_count": 159,
      "metadata": {},
      "outputs": [
        {
          "name": "stdout",
          "output_type": "stream",
          "text": [
            "Mean Absolute Error of the Random Forest Regressor on test set is 265.50\n",
            "El moodelo 'RandomForestRegressor ' pudo predecir el sueldo de los trabajadores de PeopleGrow Solution en el conjunto de prueba con un error de ± $ 265.50 del sueldo real.\n"
          ]
        }
      ],
      "source": [
        "print(\"Mean Absolute Error of the Random Forest Regressor on test set is {:.2f}\".format(mean_absolute_error(y_test,y_pred_rf)))\n",
        "mae_interpretacion(\"RandomForestRegressor \", mean_absolute_error(y_test,y_pred_rf))"
      ]
    },
    {
      "cell_type": "code",
      "execution_count": 160,
      "metadata": {},
      "outputs": [
        {
          "name": "stdout",
          "output_type": "stream",
          "text": [
            "Mean Squared Log Error of the Random Forest Regressor on test set is 0.44%\n",
            "El modelo 'RandomForestRegressor ' pudo predecir el sueldo de los trabajadores de PeopleGrow Solution en el conjunto de prueba con un error de ±  0.44% del sueldo real.\n"
          ]
        }
      ],
      "source": [
        "print(\"Mean Squared Log Error of the Random Forest Regressor on test set is {:.2%}\".format(mean_squared_log_error(y_test,y_pred_rf)))\n",
        "msle_interpretacion(\"RandomForestRegressor \", mean_squared_log_error(y_test,y_pred_rf))"
      ]
    },
    {
      "cell_type": "markdown",
      "metadata": {},
      "source": [
        "## Comparativa de modelos"
      ]
    },
    {
      "cell_type": "code",
      "execution_count": 161,
      "metadata": {},
      "outputs": [],
      "source": [
        "def get_bestModel( history : dict):\n",
        "  # Inicializar una variable para almacenar el mayor valor\n",
        "  mayor_valor = float('-inf')\n",
        "\n",
        "  # Recorrer el diccionario\n",
        "  for modelo, data in history.items():\n",
        "    # Comparar el segundo elemento de la lista (data[1] almacena el score) con el mayor encontrado hasta ahora\n",
        "    if data[1] > mayor_valor:\n",
        "        mayor_valor = data[1]\n",
        "        best_model = data[0]\n",
        "\n",
        "  return best_model, mayor_valor, modelo"
      ]
    },
    {
      "cell_type": "code",
      "execution_count": 162,
      "metadata": {},
      "outputs": [
        {
          "name": "stdout",
          "output_type": "stream",
          "text": [
            "El mejor rendimiento es: 99.38% y le corresponde a RandomForestRegressor\n"
          ]
        }
      ],
      "source": [
        "best_model, best_score, name_model = get_bestModel(history)\n",
        "print(\"El mejor rendimiento es: {0:.2%} y le corresponde a {1}\".format(best_score, name_model))"
      ]
    },
    {
      "cell_type": "markdown",
      "metadata": {},
      "source": [
        "Conclusión del mejor modelo\n",
        "+ El mejor rendimiento lo obtuvo RandomForestRegressor el cual nos dice que puede predecir con una precision del 99.38% el sueldo de los trabajadores de PeopleGrow Solutions"
      ]
    },
    {
      "cell_type": "markdown",
      "metadata": {
        "id": "QTrCTphhrDdo"
      },
      "source": [
        "## Carga de archivo JSON con datos completamente nuevos"
      ]
    },
    {
      "cell_type": "markdown",
      "metadata": {
        "id": "p7oX-Pb1rOSs"
      },
      "source": [
        "## Generación de JSON con las predicciones del mejor modelo"
      ]
    }
  ],
  "metadata": {
    "colab": {
      "provenance": [],
      "toc_visible": true
    },
    "kernelspec": {
      "display_name": "Python 3",
      "name": "python3"
    },
    "language_info": {
      "codemirror_mode": {
        "name": "ipython",
        "version": 3
      },
      "file_extension": ".py",
      "mimetype": "text/x-python",
      "name": "python",
      "nbconvert_exporter": "python",
      "pygments_lexer": "ipython3",
      "version": "3.13.2"
    }
  },
  "nbformat": 4,
  "nbformat_minor": 0
}
